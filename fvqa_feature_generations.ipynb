{
 "cells": [
  {
   "cell_type": "code",
   "execution_count": 3,
   "metadata": {
    "collapsed": true,
    "pycharm": {
     "name": "#%%\n"
    }
   },
   "outputs": [],
   "source": [
    "import numpy as np # linear algebra\n",
    "import pandas as pd # data processing, CSV file I/O (e.g. pd.read_csv)\n",
    "import os\n",
    "import json\n",
    "import cv2 as cv\n",
    "import numpy as np\n",
    "from string import punctuation\n",
    "from collections import Counter\n",
    "import matplotlib.pyplot as plt\n",
    "pd.set_option('display.max_columns', None)"
   ]
  },
  {
   "cell_type": "code",
   "execution_count": 4,
   "outputs": [],
   "source": [
    "fvqa_images_path = \"F:\\\\NUST\\\\thesis_local\\\\Practice\\\\FVQA\\\\images\"\n",
    "def show_fvqa_image(image_name):\n",
    "    print(image_name)\n",
    "    plt.imshow(plt.imread(os.path.join(fvqa_images_path, image_name)))"
   ],
   "metadata": {
    "collapsed": false,
    "pycharm": {
     "name": "#%%\n"
    }
   }
  },
  {
   "cell_type": "code",
   "execution_count": 5,
   "outputs": [
    {
     "data": {
      "text/plain": "                                                            KB      e1_label  \\\nconceptnet/e/a9c086711e083ba3503a06846848e30999...  conceptnet   monkey meat   \nconceptnet/e/acfa62a6eab1fd51f6bafca20f46277c37...  conceptnet  neuroimaging   \nconceptnet/e/f00e325c34450297a00026be9a99b63e33...  conceptnet       jamaica   \nconceptnet/e/9e911a1a354fde0b691a62681e10ac3c7c...  conceptnet         train   \nconceptnet/e/a86ca74c722e436c1fdb7084daa45ff03a...  conceptnet   aletschhorn   \n\n                                                             e2_label  \\\nconceptnet/e/a9c086711e083ba3503a06846848e30999...               meat   \nconceptnet/e/acfa62a6eab1fd51f6bafca20f46277c37...              image   \nconceptnet/e/f00e325c34450297a00026be9a99b63e33...             island   \nconceptnet/e/9e911a1a354fde0b691a62681e10ac3c7c...  arrive at station   \nconceptnet/e/a86ca74c722e436c1fdb7084daa45ff03a...           mountain   \n\n                                                                                                  uri  \\\nconceptnet/e/a9c086711e083ba3503a06846848e30999...  /a/[/r/RelatedTo/,/c/en/monkey_meat/n/,/c/en/m...   \nconceptnet/e/acfa62a6eab1fd51f6bafca20f46277c37...  /a/[/r/EtymologicallyDerivedFrom/,/c/en/neuroi...   \nconceptnet/e/f00e325c34450297a00026be9a99b63e33...  /a/[/r/RelatedTo/,/c/en/jamaica/n/,/c/en/island/]   \nconceptnet/e/9e911a1a354fde0b691a62681e10ac3c7c...  /a/[/r/CapableOf/,/c/en/train/,/c/en/arrive_at...   \nconceptnet/e/a86ca74c722e436c1fdb7084daa45ff03a...  /a/[/r/RelatedTo/,/c/en/aletschhorn/n/,/c/en/m...   \n\n                                                                                              surface  \\\nconceptnet/e/a9c086711e083ba3503a06846848e30999...             [[monkey meat]] is related to [[meat]]   \nconceptnet/e/acfa62a6eab1fd51f6bafca20f46277c37...  The word \"[[neuroimaging]]\" etymologically com...   \nconceptnet/e/f00e325c34450297a00026be9a99b63e33...               [[Jamaica]] is related to [[island]]   \nconceptnet/e/9e911a1a354fde0b691a62681e10ac3c7c...            [[a train]] can [[arrive at a station]]   \nconceptnet/e/a86ca74c722e436c1fdb7084daa45ff03a...         [[Aletschhorn]] is related to [[mountain]]   \n\n                                                                dataset  \\\nconceptnet/e/a9c086711e083ba3503a06846848e30999...  /d/wiktionary/en/en   \nconceptnet/e/acfa62a6eab1fd51f6bafca20f46277c37...  /d/wiktionary/en/en   \nconceptnet/e/f00e325c34450297a00026be9a99b63e33...  /d/wiktionary/en/en   \nconceptnet/e/9e911a1a354fde0b691a62681e10ac3c7c...   /d/conceptnet/4/en   \nconceptnet/e/a86ca74c722e436c1fdb7084daa45ff03a...  /d/wiktionary/en/en   \n\n                                                                                              sources  \\\nconceptnet/e/a9c086711e083ba3503a06846848e30999...  /and/[/s/rule/definition_section/,/s/web/en.wi...   \nconceptnet/e/acfa62a6eab1fd51f6bafca20f46277c37...  /and/[/s/rule/etymology_section/,/s/web/en.wik...   \nconceptnet/e/f00e325c34450297a00026be9a99b63e33...  /and/[/s/rule/definition_section/,/s/web/en.wi...   \nconceptnet/e/9e911a1a354fde0b691a62681e10ac3c7c...  /and/[/s/activity/omcs/omcs1_possibly_free_tex...   \nconceptnet/e/a86ca74c722e436c1fdb7084daa45ff03a...  /and/[/s/rule/definition_section/,/s/web/en.wi...   \n\n                                                                               r  \\\nconceptnet/e/a9c086711e083ba3503a06846848e30999...                  /r/RelatedTo   \nconceptnet/e/acfa62a6eab1fd51f6bafca20f46277c37...  /r/EtymologicallyDerivedFrom   \nconceptnet/e/f00e325c34450297a00026be9a99b63e33...                  /r/RelatedTo   \nconceptnet/e/9e911a1a354fde0b691a62681e10ac3c7c...                  /r/CapableOf   \nconceptnet/e/a86ca74c722e436c1fdb7084daa45ff03a...                  /r/RelatedTo   \n\n                                                     context  score  \\\nconceptnet/e/a9c086711e083ba3503a06846848e30999...  /ctx/all    1.0   \nconceptnet/e/acfa62a6eab1fd51f6bafca20f46277c37...  /ctx/all    1.0   \nconceptnet/e/f00e325c34450297a00026be9a99b63e33...  /ctx/all    1.0   \nconceptnet/e/9e911a1a354fde0b691a62681e10ac3c7c...  /ctx/all    1.0   \nconceptnet/e/a86ca74c722e436c1fdb7084daa45ff03a...  /ctx/all    1.0   \n\n                                                                     e1  \\\nconceptnet/e/a9c086711e083ba3503a06846848e30999...  /c/en/monkey_meat/n   \nconceptnet/e/acfa62a6eab1fd51f6bafca20f46277c37...   /c/en/neuroimaging   \nconceptnet/e/f00e325c34450297a00026be9a99b63e33...      /c/en/jamaica/n   \nconceptnet/e/9e911a1a354fde0b691a62681e10ac3c7c...          /c/en/train   \nconceptnet/e/a86ca74c722e436c1fdb7084daa45ff03a...  /c/en/aletschhorn/n   \n\n                                                                         e2  \\\nconceptnet/e/a9c086711e083ba3503a06846848e30999...               /c/en/meat   \nconceptnet/e/acfa62a6eab1fd51f6bafca20f46277c37...              /c/en/image   \nconceptnet/e/f00e325c34450297a00026be9a99b63e33...             /c/en/island   \nconceptnet/e/9e911a1a354fde0b691a62681e10ac3c7c...  /c/en/arrive_at_station   \nconceptnet/e/a86ca74c722e436c1fdb7084daa45ff03a...           /c/en/mountain   \n\n                                                   isnegated  \nconceptnet/e/a9c086711e083ba3503a06846848e30999...       NaN  \nconceptnet/e/acfa62a6eab1fd51f6bafca20f46277c37...       NaN  \nconceptnet/e/f00e325c34450297a00026be9a99b63e33...       NaN  \nconceptnet/e/9e911a1a354fde0b691a62681e10ac3c7c...       NaN  \nconceptnet/e/a86ca74c722e436c1fdb7084daa45ff03a...       NaN  ",
      "text/html": "<div>\n<style scoped>\n    .dataframe tbody tr th:only-of-type {\n        vertical-align: middle;\n    }\n\n    .dataframe tbody tr th {\n        vertical-align: top;\n    }\n\n    .dataframe thead th {\n        text-align: right;\n    }\n</style>\n<table border=\"1\" class=\"dataframe\">\n  <thead>\n    <tr style=\"text-align: right;\">\n      <th></th>\n      <th>KB</th>\n      <th>e1_label</th>\n      <th>e2_label</th>\n      <th>uri</th>\n      <th>surface</th>\n      <th>dataset</th>\n      <th>sources</th>\n      <th>r</th>\n      <th>context</th>\n      <th>score</th>\n      <th>e1</th>\n      <th>e2</th>\n      <th>isnegated</th>\n    </tr>\n  </thead>\n  <tbody>\n    <tr>\n      <th>conceptnet/e/a9c086711e083ba3503a06846848e30999b4d3f7</th>\n      <td>conceptnet</td>\n      <td>monkey meat</td>\n      <td>meat</td>\n      <td>/a/[/r/RelatedTo/,/c/en/monkey_meat/n/,/c/en/m...</td>\n      <td>[[monkey meat]] is related to [[meat]]</td>\n      <td>/d/wiktionary/en/en</td>\n      <td>/and/[/s/rule/definition_section/,/s/web/en.wi...</td>\n      <td>/r/RelatedTo</td>\n      <td>/ctx/all</td>\n      <td>1.0</td>\n      <td>/c/en/monkey_meat/n</td>\n      <td>/c/en/meat</td>\n      <td>NaN</td>\n    </tr>\n    <tr>\n      <th>conceptnet/e/acfa62a6eab1fd51f6bafca20f46277c37f1bcb9</th>\n      <td>conceptnet</td>\n      <td>neuroimaging</td>\n      <td>image</td>\n      <td>/a/[/r/EtymologicallyDerivedFrom/,/c/en/neuroi...</td>\n      <td>The word \"[[neuroimaging]]\" etymologically com...</td>\n      <td>/d/wiktionary/en/en</td>\n      <td>/and/[/s/rule/etymology_section/,/s/web/en.wik...</td>\n      <td>/r/EtymologicallyDerivedFrom</td>\n      <td>/ctx/all</td>\n      <td>1.0</td>\n      <td>/c/en/neuroimaging</td>\n      <td>/c/en/image</td>\n      <td>NaN</td>\n    </tr>\n    <tr>\n      <th>conceptnet/e/f00e325c34450297a00026be9a99b63e339e5539</th>\n      <td>conceptnet</td>\n      <td>jamaica</td>\n      <td>island</td>\n      <td>/a/[/r/RelatedTo/,/c/en/jamaica/n/,/c/en/island/]</td>\n      <td>[[Jamaica]] is related to [[island]]</td>\n      <td>/d/wiktionary/en/en</td>\n      <td>/and/[/s/rule/definition_section/,/s/web/en.wi...</td>\n      <td>/r/RelatedTo</td>\n      <td>/ctx/all</td>\n      <td>1.0</td>\n      <td>/c/en/jamaica/n</td>\n      <td>/c/en/island</td>\n      <td>NaN</td>\n    </tr>\n    <tr>\n      <th>conceptnet/e/9e911a1a354fde0b691a62681e10ac3c7cf09407</th>\n      <td>conceptnet</td>\n      <td>train</td>\n      <td>arrive at station</td>\n      <td>/a/[/r/CapableOf/,/c/en/train/,/c/en/arrive_at...</td>\n      <td>[[a train]] can [[arrive at a station]]</td>\n      <td>/d/conceptnet/4/en</td>\n      <td>/and/[/s/activity/omcs/omcs1_possibly_free_tex...</td>\n      <td>/r/CapableOf</td>\n      <td>/ctx/all</td>\n      <td>1.0</td>\n      <td>/c/en/train</td>\n      <td>/c/en/arrive_at_station</td>\n      <td>NaN</td>\n    </tr>\n    <tr>\n      <th>conceptnet/e/a86ca74c722e436c1fdb7084daa45ff03a93c1ab</th>\n      <td>conceptnet</td>\n      <td>aletschhorn</td>\n      <td>mountain</td>\n      <td>/a/[/r/RelatedTo/,/c/en/aletschhorn/n/,/c/en/m...</td>\n      <td>[[Aletschhorn]] is related to [[mountain]]</td>\n      <td>/d/wiktionary/en/en</td>\n      <td>/and/[/s/rule/definition_section/,/s/web/en.wi...</td>\n      <td>/r/RelatedTo</td>\n      <td>/ctx/all</td>\n      <td>1.0</td>\n      <td>/c/en/aletschhorn/n</td>\n      <td>/c/en/mountain</td>\n      <td>NaN</td>\n    </tr>\n  </tbody>\n</table>\n</div>"
     },
     "execution_count": 5,
     "metadata": {},
     "output_type": "execute_result"
    }
   ],
   "source": [
    "all_facts_file_path = 'fvqa_data//all_fact_triples_release.json'\n",
    "all_facts_data_df = pd.read_json(all_facts_file_path, orient ='index')\n",
    "all_facts_data_df.head()"
   ],
   "metadata": {
    "collapsed": false,
    "pycharm": {
     "name": "#%%\n"
    }
   }
  },
  {
   "cell_type": "code",
   "execution_count": 6,
   "outputs": [
    {
     "data": {
      "text/plain": "                                          fact_surface ans_source  \\\n270  You are likely to find [[a trumpet]] in [[a ja...      image   \n271  [[lipstick]] belongs to the category of [[Cosm...      image   \n272          [[Lipstick]] is for [[coloring the lips]]         kb   \n273  You are likely to find [[lipstick]] in [[a mak...         kb   \n274                          [[A kite]] has [[a tail]]      image   \n\n                answer                                           question  \\\n270            trumpet           Which object can be found in a jazz club   \n271           lipstick  Tell me the name of the cosmetics shown in thi...   \n272  coloring the lips    What is the object shown in this image used for   \n273   a makeup cabinet        Where can you find the object in this image   \n274               kite              Which object in this image has a tail   \n\n                          img_file visual_concept   kb_source  \\\n270  ILSVRC2012_test_00050748.JPEG            obj  conceptnet   \n271  ILSVRC2012_test_00000444.JPEG            obj     dbpedia   \n272  ILSVRC2012_test_00000444.JPEG            obj  conceptnet   \n273  ILSVRC2012_test_00000444.JPEG            obj  conceptnet   \n274  COCO_val2014_000000005599.jpg            obj  conceptnet   \n\n                                                  fact  question_id  \n270  conceptnet/e/f768f157e4446dd594536f8ef02681515...          270  \n271                                       dbpedia/8657          271  \n272  conceptnet/e/18b413dee0ebe3cadef337f364baa6164...          272  \n273  conceptnet/e/c8399f11b843cb0fa84dbfe8659542126...          273  \n274  conceptnet/e/1e9f66df12d446019dc02db7fe054b87c...          274  ",
      "text/html": "<div>\n<style scoped>\n    .dataframe tbody tr th:only-of-type {\n        vertical-align: middle;\n    }\n\n    .dataframe tbody tr th {\n        vertical-align: top;\n    }\n\n    .dataframe thead th {\n        text-align: right;\n    }\n</style>\n<table border=\"1\" class=\"dataframe\">\n  <thead>\n    <tr style=\"text-align: right;\">\n      <th></th>\n      <th>fact_surface</th>\n      <th>ans_source</th>\n      <th>answer</th>\n      <th>question</th>\n      <th>img_file</th>\n      <th>visual_concept</th>\n      <th>kb_source</th>\n      <th>fact</th>\n      <th>question_id</th>\n    </tr>\n  </thead>\n  <tbody>\n    <tr>\n      <th>270</th>\n      <td>You are likely to find [[a trumpet]] in [[a ja...</td>\n      <td>image</td>\n      <td>trumpet</td>\n      <td>Which object can be found in a jazz club</td>\n      <td>ILSVRC2012_test_00050748.JPEG</td>\n      <td>obj</td>\n      <td>conceptnet</td>\n      <td>conceptnet/e/f768f157e4446dd594536f8ef02681515...</td>\n      <td>270</td>\n    </tr>\n    <tr>\n      <th>271</th>\n      <td>[[lipstick]] belongs to the category of [[Cosm...</td>\n      <td>image</td>\n      <td>lipstick</td>\n      <td>Tell me the name of the cosmetics shown in thi...</td>\n      <td>ILSVRC2012_test_00000444.JPEG</td>\n      <td>obj</td>\n      <td>dbpedia</td>\n      <td>dbpedia/8657</td>\n      <td>271</td>\n    </tr>\n    <tr>\n      <th>272</th>\n      <td>[[Lipstick]] is for [[coloring the lips]]</td>\n      <td>kb</td>\n      <td>coloring the lips</td>\n      <td>What is the object shown in this image used for</td>\n      <td>ILSVRC2012_test_00000444.JPEG</td>\n      <td>obj</td>\n      <td>conceptnet</td>\n      <td>conceptnet/e/18b413dee0ebe3cadef337f364baa6164...</td>\n      <td>272</td>\n    </tr>\n    <tr>\n      <th>273</th>\n      <td>You are likely to find [[lipstick]] in [[a mak...</td>\n      <td>kb</td>\n      <td>a makeup cabinet</td>\n      <td>Where can you find the object in this image</td>\n      <td>ILSVRC2012_test_00000444.JPEG</td>\n      <td>obj</td>\n      <td>conceptnet</td>\n      <td>conceptnet/e/c8399f11b843cb0fa84dbfe8659542126...</td>\n      <td>273</td>\n    </tr>\n    <tr>\n      <th>274</th>\n      <td>[[A kite]] has [[a tail]]</td>\n      <td>image</td>\n      <td>kite</td>\n      <td>Which object in this image has a tail</td>\n      <td>COCO_val2014_000000005599.jpg</td>\n      <td>obj</td>\n      <td>conceptnet</td>\n      <td>conceptnet/e/1e9f66df12d446019dc02db7fe054b87c...</td>\n      <td>274</td>\n    </tr>\n  </tbody>\n</table>\n</div>"
     },
     "execution_count": 6,
     "metadata": {},
     "output_type": "execute_result"
    }
   ],
   "source": [
    "question_file_path = 'fvqa_data//all_qs_dict_release.json'\n",
    "questions_data_df = pd.read_json(question_file_path, orient ='index')\n",
    "questions_data_df['fact'] = questions_data_df['fact'].apply(lambda x: str(x[0]))\n",
    "questions_data_df.head()"
   ],
   "metadata": {
    "collapsed": false,
    "pycharm": {
     "name": "#%%\n"
    }
   }
  },
  {
   "cell_type": "code",
   "execution_count": 7,
   "outputs": [],
   "source": [
    "# join question with fact dataframe to create join question with facts dataframe\n",
    "merged_ques_facts_df = pd.merge(questions_data_df, all_facts_data_df , right_index=True, left_on='fact')"
   ],
   "metadata": {
    "collapsed": false,
    "pycharm": {
     "name": "#%%\n"
    }
   }
  },
  {
   "cell_type": "code",
   "execution_count": 8,
   "outputs": [
    {
     "data": {
      "text/plain": "                                          fact_surface ans_source  \\\n270  You are likely to find [[a trumpet]] in [[a ja...      image   \n271  [[lipstick]] belongs to the category of [[Cosm...      image   \n569  [[lipstick]] belongs to the category of [[Cosm...      image   \n272          [[Lipstick]] is for [[coloring the lips]]         kb   \n383          [[Lipstick]] is for [[coloring the lips]]      image   \n\n                answer                                           question  \\\n270            trumpet           Which object can be found in a jazz club   \n271           lipstick  Tell me the name of the cosmetics shown in thi...   \n569           lipstick  what object in this image is a cosmetic placed...   \n272  coloring the lips    What is the object shown in this image used for   \n383           lipstick  Which item in this image is used for colouring...   \n\n                          img_file visual_concept   kb_source  \\\n270  ILSVRC2012_test_00050748.JPEG            obj  conceptnet   \n271  ILSVRC2012_test_00000444.JPEG            obj     dbpedia   \n569  ILSVRC2012_test_00045533.JPEG            obj     dbpedia   \n272  ILSVRC2012_test_00000444.JPEG            obj  conceptnet   \n383  ILSVRC2012_test_00002289.JPEG            obj  conceptnet   \n\n                                                  fact  question_id  \\\n270  conceptnet/e/f768f157e4446dd594536f8ef02681515...          270   \n271                                       dbpedia/8657          271   \n569                                       dbpedia/8657          569   \n272  conceptnet/e/18b413dee0ebe3cadef337f364baa6164...          272   \n383  conceptnet/e/18b413dee0ebe3cadef337f364baa6164...          383   \n\n             KB  e1_label   e2_label  \\\n270  conceptnet   trumpet  jazz club   \n271     dbpedia  lipstick  Cosmetics   \n569     dbpedia  lipstick  Cosmetics   \n272  conceptnet  lipstick  color lip   \n383  conceptnet  lipstick  color lip   \n\n                                                   uri  \\\n270  /a/[/r/AtLocation/,/c/en/trumpet/,/c/en/jazz_c...   \n271                                                NaN   \n569                                                NaN   \n272  /a/[/r/UsedFor/,/c/en/lipstick/,/c/en/color_lip/]   \n383  /a/[/r/UsedFor/,/c/en/lipstick/,/c/en/color_lip/]   \n\n                                               surface             dataset  \\\n270  You are likely to find [[a trumpet]] in [[a ja...  /d/conceptnet/4/en   \n271  [[lipstick]] belongs to the category of [[Cosm...                 NaN   \n569  [[lipstick]] belongs to the category of [[Cosm...                 NaN   \n272          [[Lipstick]] is for [[coloring the lips]]  /d/conceptnet/4/en   \n383          [[Lipstick]] is for [[coloring the lips]]  /d/conceptnet/4/en   \n\n                                               sources                  r  \\\n270  /and/[/s/activity/omcs/globalmind/,/s/contribu...      /r/AtLocation   \n271                                                NaN  dbpedia/transnbhd   \n569                                                NaN  dbpedia/transnbhd   \n272  /and/[/s/activity/omcs/omcs1_possibly_free_tex...         /r/UsedFor   \n383  /and/[/s/activity/omcs/omcs1_possibly_free_tex...         /r/UsedFor   \n\n      context  score                                    e1  \\\n270  /ctx/all    1.0                         /c/en/trumpet   \n271       NaN    1.0  http://dbpedia.org/resource/Lipstick   \n569       NaN    1.0  http://dbpedia.org/resource/Lipstick   \n272  /ctx/all    1.0                        /c/en/lipstick   \n383  /ctx/all    1.0                        /c/en/lipstick   \n\n                                        e2 isnegated  \n270                        /c/en/jazz_club       NaN  \n271  http://dbpedia.org/resource/Cosmetics       NaN  \n569  http://dbpedia.org/resource/Cosmetics       NaN  \n272                        /c/en/color_lip       NaN  \n383                        /c/en/color_lip       NaN  ",
      "text/html": "<div>\n<style scoped>\n    .dataframe tbody tr th:only-of-type {\n        vertical-align: middle;\n    }\n\n    .dataframe tbody tr th {\n        vertical-align: top;\n    }\n\n    .dataframe thead th {\n        text-align: right;\n    }\n</style>\n<table border=\"1\" class=\"dataframe\">\n  <thead>\n    <tr style=\"text-align: right;\">\n      <th></th>\n      <th>fact_surface</th>\n      <th>ans_source</th>\n      <th>answer</th>\n      <th>question</th>\n      <th>img_file</th>\n      <th>visual_concept</th>\n      <th>kb_source</th>\n      <th>fact</th>\n      <th>question_id</th>\n      <th>KB</th>\n      <th>e1_label</th>\n      <th>e2_label</th>\n      <th>uri</th>\n      <th>surface</th>\n      <th>dataset</th>\n      <th>sources</th>\n      <th>r</th>\n      <th>context</th>\n      <th>score</th>\n      <th>e1</th>\n      <th>e2</th>\n      <th>isnegated</th>\n    </tr>\n  </thead>\n  <tbody>\n    <tr>\n      <th>270</th>\n      <td>You are likely to find [[a trumpet]] in [[a ja...</td>\n      <td>image</td>\n      <td>trumpet</td>\n      <td>Which object can be found in a jazz club</td>\n      <td>ILSVRC2012_test_00050748.JPEG</td>\n      <td>obj</td>\n      <td>conceptnet</td>\n      <td>conceptnet/e/f768f157e4446dd594536f8ef02681515...</td>\n      <td>270</td>\n      <td>conceptnet</td>\n      <td>trumpet</td>\n      <td>jazz club</td>\n      <td>/a/[/r/AtLocation/,/c/en/trumpet/,/c/en/jazz_c...</td>\n      <td>You are likely to find [[a trumpet]] in [[a ja...</td>\n      <td>/d/conceptnet/4/en</td>\n      <td>/and/[/s/activity/omcs/globalmind/,/s/contribu...</td>\n      <td>/r/AtLocation</td>\n      <td>/ctx/all</td>\n      <td>1.0</td>\n      <td>/c/en/trumpet</td>\n      <td>/c/en/jazz_club</td>\n      <td>NaN</td>\n    </tr>\n    <tr>\n      <th>271</th>\n      <td>[[lipstick]] belongs to the category of [[Cosm...</td>\n      <td>image</td>\n      <td>lipstick</td>\n      <td>Tell me the name of the cosmetics shown in thi...</td>\n      <td>ILSVRC2012_test_00000444.JPEG</td>\n      <td>obj</td>\n      <td>dbpedia</td>\n      <td>dbpedia/8657</td>\n      <td>271</td>\n      <td>dbpedia</td>\n      <td>lipstick</td>\n      <td>Cosmetics</td>\n      <td>NaN</td>\n      <td>[[lipstick]] belongs to the category of [[Cosm...</td>\n      <td>NaN</td>\n      <td>NaN</td>\n      <td>dbpedia/transnbhd</td>\n      <td>NaN</td>\n      <td>1.0</td>\n      <td>http://dbpedia.org/resource/Lipstick</td>\n      <td>http://dbpedia.org/resource/Cosmetics</td>\n      <td>NaN</td>\n    </tr>\n    <tr>\n      <th>569</th>\n      <td>[[lipstick]] belongs to the category of [[Cosm...</td>\n      <td>image</td>\n      <td>lipstick</td>\n      <td>what object in this image is a cosmetic placed...</td>\n      <td>ILSVRC2012_test_00045533.JPEG</td>\n      <td>obj</td>\n      <td>dbpedia</td>\n      <td>dbpedia/8657</td>\n      <td>569</td>\n      <td>dbpedia</td>\n      <td>lipstick</td>\n      <td>Cosmetics</td>\n      <td>NaN</td>\n      <td>[[lipstick]] belongs to the category of [[Cosm...</td>\n      <td>NaN</td>\n      <td>NaN</td>\n      <td>dbpedia/transnbhd</td>\n      <td>NaN</td>\n      <td>1.0</td>\n      <td>http://dbpedia.org/resource/Lipstick</td>\n      <td>http://dbpedia.org/resource/Cosmetics</td>\n      <td>NaN</td>\n    </tr>\n    <tr>\n      <th>272</th>\n      <td>[[Lipstick]] is for [[coloring the lips]]</td>\n      <td>kb</td>\n      <td>coloring the lips</td>\n      <td>What is the object shown in this image used for</td>\n      <td>ILSVRC2012_test_00000444.JPEG</td>\n      <td>obj</td>\n      <td>conceptnet</td>\n      <td>conceptnet/e/18b413dee0ebe3cadef337f364baa6164...</td>\n      <td>272</td>\n      <td>conceptnet</td>\n      <td>lipstick</td>\n      <td>color lip</td>\n      <td>/a/[/r/UsedFor/,/c/en/lipstick/,/c/en/color_lip/]</td>\n      <td>[[Lipstick]] is for [[coloring the lips]]</td>\n      <td>/d/conceptnet/4/en</td>\n      <td>/and/[/s/activity/omcs/omcs1_possibly_free_tex...</td>\n      <td>/r/UsedFor</td>\n      <td>/ctx/all</td>\n      <td>1.0</td>\n      <td>/c/en/lipstick</td>\n      <td>/c/en/color_lip</td>\n      <td>NaN</td>\n    </tr>\n    <tr>\n      <th>383</th>\n      <td>[[Lipstick]] is for [[coloring the lips]]</td>\n      <td>image</td>\n      <td>lipstick</td>\n      <td>Which item in this image is used for colouring...</td>\n      <td>ILSVRC2012_test_00002289.JPEG</td>\n      <td>obj</td>\n      <td>conceptnet</td>\n      <td>conceptnet/e/18b413dee0ebe3cadef337f364baa6164...</td>\n      <td>383</td>\n      <td>conceptnet</td>\n      <td>lipstick</td>\n      <td>color lip</td>\n      <td>/a/[/r/UsedFor/,/c/en/lipstick/,/c/en/color_lip/]</td>\n      <td>[[Lipstick]] is for [[coloring the lips]]</td>\n      <td>/d/conceptnet/4/en</td>\n      <td>/and/[/s/activity/omcs/omcs1_possibly_free_tex...</td>\n      <td>/r/UsedFor</td>\n      <td>/ctx/all</td>\n      <td>1.0</td>\n      <td>/c/en/lipstick</td>\n      <td>/c/en/color_lip</td>\n      <td>NaN</td>\n    </tr>\n  </tbody>\n</table>\n</div>"
     },
     "execution_count": 8,
     "metadata": {},
     "output_type": "execute_result"
    }
   ],
   "source": [
    "merged_ques_facts_df.head()"
   ],
   "metadata": {
    "collapsed": false,
    "pycharm": {
     "name": "#%%\n"
    }
   }
  },
  {
   "cell_type": "markdown",
   "source": [
    "### FVQA Dictionary"
   ],
   "metadata": {
    "collapsed": false,
    "pycharm": {
     "name": "#%% md\n"
    }
   }
  },
  {
   "cell_type": "code",
   "execution_count": null,
   "outputs": [],
   "source": [
    "import re\n",
    "from string import punctuation\n",
    "\n",
    "import collections\n",
    "import re\n",
    "col_filter = ['answer', 'question']\n",
    "filtered_df = merged_ques_facts_df.loc[:,col_filter]\n",
    "list_of_words = [re.sub('[^a-zA-Z]+', '', y) for x in filtered_df.values.flatten() for y in str(x).lower().split() if y not in punctuation]\n",
    "\n",
    "\n",
    "e1_labels = [y.lower() for y in all_facts_data_df['e1_label'].values]\n",
    "e1_label_words = [y for x in e1_labels for y in str(x).lower().split() if y not in punctuation]\n",
    "\n",
    "e2_labels = [y.lower() for y in all_facts_data_df['e2_label'].values]\n",
    "e2_label_words = [y for x in e2_labels for y in str(x).lower().split() if y not in punctuation]\n",
    "\n",
    "list_of_words.extend(e1_label_words)\n",
    "list_of_words.extend(e2_label_words)\n",
    "\n",
    "fvqa_count_words = collections.Counter(list_of_words)\n",
    "fvqa_total_words = len(list_of_words)\n",
    "fvqa_sorted_words = fvqa_count_words.most_common(fvqa_total_words)\n",
    "fvqa_vocab_to_int = {w:i+1 for i, (w,c) in enumerate(fvqa_sorted_words)}\n",
    "fvqa_int_to_vocab = {i+1:w for i, (w,c) in enumerate(fvqa_sorted_words)}\n",
    "\n",
    "file = open(\"generated_fvqa_data//fvqa_int_to_vocab.json\", \"w\")\n",
    "json.dump(fvqa_int_to_vocab, file)\n",
    "file.close()\n",
    "\n",
    "file = open(\"generated_fvqa_data//fvqa_vocab_to_int.json\", \"w\")\n",
    "json.dump(fvqa_vocab_to_int, file)\n",
    "file.close()\n",
    "\n",
    "file = open(\"fvqa_data//our_features//word_count.json\", \"w\")\n",
    "json.dump(fvqa_count_words, file)\n",
    "file.close()"
   ],
   "metadata": {
    "collapsed": false,
    "pycharm": {
     "name": "#%%\n",
     "is_executing": true
    }
   }
  },
  {
   "cell_type": "markdown",
   "source": [
    "### FVQA Data Analysis"
   ],
   "metadata": {
    "collapsed": false,
    "pycharm": {
     "name": "#%% md\n"
    }
   }
  },
  {
   "cell_type": "code",
   "execution_count": 10,
   "outputs": [
    {
     "name": "stdout",
     "output_type": "stream",
     "text": [
      "total images having multiple questions =  1362\n",
      "total images having single question =  828\n"
     ]
    },
    {
     "data": {
      "text/plain": "COCO_val2014_000000011567.jpg    45\nILSVRC2012_test_00002135.JPEG    34\nILSVRC2012_test_00034356.JPEG    27\nILSVRC2012_test_00040381.JPEG    25\nCOCO_val2014_000000009707.jpg    23\n                                 ..\nCOCO_val2014_000000131557.jpg     1\nCOCO_val2014_000000102466.jpg     1\nILSVRC2012_test_00001757.JPEG     1\nILSVRC2012_test_00043594.JPEG     1\nILSVRC2012_test_00003426.JPEG     1\nName: Images with question counts, Length: 2190, dtype: int64"
     },
     "execution_count": 10,
     "metadata": {},
     "output_type": "execute_result"
    }
   ],
   "source": [
    "img_question_counts = merged_ques_facts_df['img_file'].value_counts()\n",
    "print('total images having multiple questions = ', len(img_question_counts[img_question_counts > 1]))\n",
    "print('total images having single question = ', len(img_question_counts[img_question_counts == 1]))\n",
    "img_question_counts.name=\"Images with question counts\"\n",
    "img_question_counts"
   ],
   "metadata": {
    "collapsed": false,
    "pycharm": {
     "name": "#%%\n"
    }
   }
  },
  {
   "cell_type": "code",
   "execution_count": 11,
   "outputs": [
    {
     "name": "stdout",
     "output_type": "stream",
     "text": [
      "COCO_val2014_000000011567.jpg\n"
     ]
    },
    {
     "data": {
      "text/plain": "                                               question  \\\n2688   what object in this image can be male or female?   \n2689        what object in this image can smell things?   \n2684  which object in this image is capable of doing...   \n2685      what object in this image can dance to music?   \n2686       what object in this image can post a letter?   \n2687                what object in this image can walk?   \n2680  which object in this image is capable of paint...   \n2681  which object in this image is capable of smell...   \n2682  which object in this image is capable of ownin...   \n2683        what object in this image can loose weight?   \n2700  which object in this image is capable of purch...   \n2659  what objects in this image are a spherical shape?   \n2658  what small round object in this image is used ...   \n2671  which object in this image can give money to c...   \n2670    which object in this image can wash their hair?   \n2673  which object in this image is capable of eatin...   \n2672   which object in this image has a sense of smell?   \n2675  what object in this image is capable of dinein...   \n2674  which object in this image is capable of putti...   \n2677  which object in this image is capable of stepp...   \n2676  what object in this image is capable of making...   \n2679  which object in this image can dance by themse...   \n2678       what object in this image can throw a party?   \n2699  which object in this image is capable of compl...   \n2698         which object in this image can taste salt?   \n2697    which object in this image must eat to survive?   \n2696           which object in this image has two ears?   \n2695  which object in this image is can decide on a ...   \n2694  which object in this image can clean a messy r...   \n2693  which object in this image can eat shrimp for ...   \n2692  which object in this image is capable of havin...   \n2691  which object in this image can read books for ...   \n2690  what object in this image is capable of drinki...   \n2701  which object in this image is capable of viewi...   \n2702  which object in this image is capable of growi...   \n2668               which object in this image is alive?   \n2669         which object in this image can run a shop?   \n2666  which object in this image can dance for enjoy...   \n2667      which object in this image can forget things?   \n2664   what object in this image eats food off a plate?   \n2665   which object in this image can blow out candles?   \n2662                what object in this image can pout?   \n2663  what object in this image can govern other peo...   \n2660  which yellow object in this image can be found...   \n2661    what object in this image can stand on one leg?   \n\n                                                   fact  question_id  \\\n2688  conceptnet/e/18d46d251d098a08bce0a8ba75a3aace3...         2688   \n2689  conceptnet/e/80ec77fe0bd79b1a23a9dc19f122ae858...         2689   \n2684  conceptnet/e/f48f282f7d85e6f55c3391f15e03e8986...         2684   \n2685  conceptnet/e/f8dc32f1e2badb1e65f93097b4609fde5...         2685   \n2686  conceptnet/e/5f57a6c051703032a75d6cd1fb80d2e65...         2686   \n2687  conceptnet/e/95cfb48444cbde268e1a03eec57d6b140...         2687   \n2680  conceptnet/e/1be855f14cbaa60f529d30137a7675224...         2680   \n2681  conceptnet/e/85b5556053e14e40ff3009e747672bd89...         2681   \n2682  conceptnet/e/2d4202908ae9bdc6d8229ebcab98e338d...         2682   \n2683  conceptnet/e/a2171a2be5f200c06ea0adb098aa07a04...         2683   \n2700  conceptnet/e/c55fbc9488c84bd21bd5ddd0524e6ca88...         2700   \n2659  conceptnet/e/ff6104181be4ee89b9efe49a55f1b4142...         2659   \n2658  conceptnet/e/81f61a785833943864e364ea5b0661774...         2658   \n2671  conceptnet/e/c983b695bfa45d691e4b4b2d0533bd46d...         2671   \n2670  conceptnet/e/dde5eb99b34a6638e72463bf3ab93e869...         2670   \n2673  conceptnet/e/f015a3fcad8a7fdeab3107ccc73430def...         2673   \n2672  conceptnet/e/80ec77fe0bd79b1a23a9dc19f122ae858...         2672   \n2675  conceptnet/e/e94a9f2eac66409b4a6c086b74a1c6caf...         2675   \n2674  conceptnet/e/1a11587aeadaab9f7f82ccb62fee07d73...         2674   \n2677  conceptnet/e/d4cfa3f1d3be9f004f79541e7fed68fd0...         2677   \n2676  conceptnet/e/d8ad941a5165fee98a9373fd2a87d7c90...         2676   \n2679  conceptnet/e/e69a634812a45416b073f8625e106a51e...         2679   \n2678  conceptnet/e/6de08bef33514d727d56ff5a5809411ce...         2678   \n2699  conceptnet/e/2b41b9ac1c3f4844eb31598b3d07c361a...         2699   \n2698  conceptnet/e/61dbd9c33f581ad2bdbe2e9d49cf6fac6...         2698   \n2697  conceptnet/e/f5d24f77f5c1d6fa877481402284866bd...         2697   \n2696  conceptnet/e/f66726654a2b3ee4ed1f85dcd7d422f2e...         2696   \n2695  conceptnet/e/ff51ee1fbeea5aaa7852908c5ae5264f6...         2695   \n2694  conceptnet/e/efbb6ae1a8f7679af9f69076c40b24c43...         2694   \n2693  conceptnet/e/5bb3acd409621ad5c3f5e538f6dd518ef...         2693   \n2692  conceptnet/e/68a5cf83aa30b037c970d13d240133c80...         2692   \n2691  conceptnet/e/c33dfdb9ab5491d363fcfdef4aea4c0d9...         2691   \n2690  conceptnet/e/860456ca67e26e8f3ea70dd6be3a19062...         2690   \n2701  conceptnet/e/5d0b6fba16ab793623f7166e370bb020c...         2701   \n2702  conceptnet/e/bbfc83cd9727d8e6344f15308ae50e1a9...         2702   \n2668  conceptnet/e/68deacafe10698d720fdb9675a17df8b1...         2668   \n2669  conceptnet/e/8178071edf6e30e45398899c450884559...         2669   \n2666  conceptnet/e/89001d8c3856dcbd4476e103cd8c274fd...         2666   \n2667  conceptnet/e/cc62ad88f167316fba3ab002be9074033...         2667   \n2664  conceptnet/e/51450449fe13ad00575cea760b67212fb...         2664   \n2665  conceptnet/e/2338d8329efa29dea31fb9f9b5b165392...         2665   \n2662  conceptnet/e/0c9efbc5fca7d7b5e8644c5fa58d23e29...         2662   \n2663  conceptnet/e/ad5b22b10e7257b24c48de7fe5e2ac774...         2663   \n2660  conceptnet/e/7bfd4bb48a5170ac62c3b520e430ef036...         2660   \n2661  conceptnet/e/c22d5cfe2b9e6b52b0c9cc8da6b48c66f...         2661   \n\n             answer  \n2688         people  \n2689         person  \n2684         people  \n2685         people  \n2686       a person  \n2687         person  \n2680         people  \n2681         people  \n2682       a person  \n2683         people  \n2700       a person  \n2659   tennis balls  \n2658  a tennis ball  \n2671       a person  \n2670       a person  \n2673         person  \n2672       a person  \n2675         people  \n2674         people  \n2677       a person  \n2676         people  \n2679         people  \n2678       a person  \n2699       a person  \n2698         people  \n2697         people  \n2696       a person  \n2695       a person  \n2694       a person  \n2693       a person  \n2692         people  \n2691         people  \n2690         people  \n2701       a person  \n2702       a person  \n2668         people  \n2669       a person  \n2666         people  \n2667         people  \n2664         people  \n2665       a person  \n2662         people  \n2663         people  \n2660  a tennis ball  \n2661       a person  ",
      "text/html": "<div>\n<style scoped>\n    .dataframe tbody tr th:only-of-type {\n        vertical-align: middle;\n    }\n\n    .dataframe tbody tr th {\n        vertical-align: top;\n    }\n\n    .dataframe thead th {\n        text-align: right;\n    }\n</style>\n<table border=\"1\" class=\"dataframe\">\n  <thead>\n    <tr style=\"text-align: right;\">\n      <th></th>\n      <th>question</th>\n      <th>fact</th>\n      <th>question_id</th>\n      <th>answer</th>\n    </tr>\n  </thead>\n  <tbody>\n    <tr>\n      <th>2688</th>\n      <td>what object in this image can be male or female?</td>\n      <td>conceptnet/e/18d46d251d098a08bce0a8ba75a3aace3...</td>\n      <td>2688</td>\n      <td>people</td>\n    </tr>\n    <tr>\n      <th>2689</th>\n      <td>what object in this image can smell things?</td>\n      <td>conceptnet/e/80ec77fe0bd79b1a23a9dc19f122ae858...</td>\n      <td>2689</td>\n      <td>person</td>\n    </tr>\n    <tr>\n      <th>2684</th>\n      <td>which object in this image is capable of doing...</td>\n      <td>conceptnet/e/f48f282f7d85e6f55c3391f15e03e8986...</td>\n      <td>2684</td>\n      <td>people</td>\n    </tr>\n    <tr>\n      <th>2685</th>\n      <td>what object in this image can dance to music?</td>\n      <td>conceptnet/e/f8dc32f1e2badb1e65f93097b4609fde5...</td>\n      <td>2685</td>\n      <td>people</td>\n    </tr>\n    <tr>\n      <th>2686</th>\n      <td>what object in this image can post a letter?</td>\n      <td>conceptnet/e/5f57a6c051703032a75d6cd1fb80d2e65...</td>\n      <td>2686</td>\n      <td>a person</td>\n    </tr>\n    <tr>\n      <th>2687</th>\n      <td>what object in this image can walk?</td>\n      <td>conceptnet/e/95cfb48444cbde268e1a03eec57d6b140...</td>\n      <td>2687</td>\n      <td>person</td>\n    </tr>\n    <tr>\n      <th>2680</th>\n      <td>which object in this image is capable of paint...</td>\n      <td>conceptnet/e/1be855f14cbaa60f529d30137a7675224...</td>\n      <td>2680</td>\n      <td>people</td>\n    </tr>\n    <tr>\n      <th>2681</th>\n      <td>which object in this image is capable of smell...</td>\n      <td>conceptnet/e/85b5556053e14e40ff3009e747672bd89...</td>\n      <td>2681</td>\n      <td>people</td>\n    </tr>\n    <tr>\n      <th>2682</th>\n      <td>which object in this image is capable of ownin...</td>\n      <td>conceptnet/e/2d4202908ae9bdc6d8229ebcab98e338d...</td>\n      <td>2682</td>\n      <td>a person</td>\n    </tr>\n    <tr>\n      <th>2683</th>\n      <td>what object in this image can loose weight?</td>\n      <td>conceptnet/e/a2171a2be5f200c06ea0adb098aa07a04...</td>\n      <td>2683</td>\n      <td>people</td>\n    </tr>\n    <tr>\n      <th>2700</th>\n      <td>which object in this image is capable of purch...</td>\n      <td>conceptnet/e/c55fbc9488c84bd21bd5ddd0524e6ca88...</td>\n      <td>2700</td>\n      <td>a person</td>\n    </tr>\n    <tr>\n      <th>2659</th>\n      <td>what objects in this image are a spherical shape?</td>\n      <td>conceptnet/e/ff6104181be4ee89b9efe49a55f1b4142...</td>\n      <td>2659</td>\n      <td>tennis balls</td>\n    </tr>\n    <tr>\n      <th>2658</th>\n      <td>what small round object in this image is used ...</td>\n      <td>conceptnet/e/81f61a785833943864e364ea5b0661774...</td>\n      <td>2658</td>\n      <td>a tennis ball</td>\n    </tr>\n    <tr>\n      <th>2671</th>\n      <td>which object in this image can give money to c...</td>\n      <td>conceptnet/e/c983b695bfa45d691e4b4b2d0533bd46d...</td>\n      <td>2671</td>\n      <td>a person</td>\n    </tr>\n    <tr>\n      <th>2670</th>\n      <td>which object in this image can wash their hair?</td>\n      <td>conceptnet/e/dde5eb99b34a6638e72463bf3ab93e869...</td>\n      <td>2670</td>\n      <td>a person</td>\n    </tr>\n    <tr>\n      <th>2673</th>\n      <td>which object in this image is capable of eatin...</td>\n      <td>conceptnet/e/f015a3fcad8a7fdeab3107ccc73430def...</td>\n      <td>2673</td>\n      <td>person</td>\n    </tr>\n    <tr>\n      <th>2672</th>\n      <td>which object in this image has a sense of smell?</td>\n      <td>conceptnet/e/80ec77fe0bd79b1a23a9dc19f122ae858...</td>\n      <td>2672</td>\n      <td>a person</td>\n    </tr>\n    <tr>\n      <th>2675</th>\n      <td>what object in this image is capable of dinein...</td>\n      <td>conceptnet/e/e94a9f2eac66409b4a6c086b74a1c6caf...</td>\n      <td>2675</td>\n      <td>people</td>\n    </tr>\n    <tr>\n      <th>2674</th>\n      <td>which object in this image is capable of putti...</td>\n      <td>conceptnet/e/1a11587aeadaab9f7f82ccb62fee07d73...</td>\n      <td>2674</td>\n      <td>people</td>\n    </tr>\n    <tr>\n      <th>2677</th>\n      <td>which object in this image is capable of stepp...</td>\n      <td>conceptnet/e/d4cfa3f1d3be9f004f79541e7fed68fd0...</td>\n      <td>2677</td>\n      <td>a person</td>\n    </tr>\n    <tr>\n      <th>2676</th>\n      <td>what object in this image is capable of making...</td>\n      <td>conceptnet/e/d8ad941a5165fee98a9373fd2a87d7c90...</td>\n      <td>2676</td>\n      <td>people</td>\n    </tr>\n    <tr>\n      <th>2679</th>\n      <td>which object in this image can dance by themse...</td>\n      <td>conceptnet/e/e69a634812a45416b073f8625e106a51e...</td>\n      <td>2679</td>\n      <td>people</td>\n    </tr>\n    <tr>\n      <th>2678</th>\n      <td>what object in this image can throw a party?</td>\n      <td>conceptnet/e/6de08bef33514d727d56ff5a5809411ce...</td>\n      <td>2678</td>\n      <td>a person</td>\n    </tr>\n    <tr>\n      <th>2699</th>\n      <td>which object in this image is capable of compl...</td>\n      <td>conceptnet/e/2b41b9ac1c3f4844eb31598b3d07c361a...</td>\n      <td>2699</td>\n      <td>a person</td>\n    </tr>\n    <tr>\n      <th>2698</th>\n      <td>which object in this image can taste salt?</td>\n      <td>conceptnet/e/61dbd9c33f581ad2bdbe2e9d49cf6fac6...</td>\n      <td>2698</td>\n      <td>people</td>\n    </tr>\n    <tr>\n      <th>2697</th>\n      <td>which object in this image must eat to survive?</td>\n      <td>conceptnet/e/f5d24f77f5c1d6fa877481402284866bd...</td>\n      <td>2697</td>\n      <td>people</td>\n    </tr>\n    <tr>\n      <th>2696</th>\n      <td>which object in this image has two ears?</td>\n      <td>conceptnet/e/f66726654a2b3ee4ed1f85dcd7d422f2e...</td>\n      <td>2696</td>\n      <td>a person</td>\n    </tr>\n    <tr>\n      <th>2695</th>\n      <td>which object in this image is can decide on a ...</td>\n      <td>conceptnet/e/ff51ee1fbeea5aaa7852908c5ae5264f6...</td>\n      <td>2695</td>\n      <td>a person</td>\n    </tr>\n    <tr>\n      <th>2694</th>\n      <td>which object in this image can clean a messy r...</td>\n      <td>conceptnet/e/efbb6ae1a8f7679af9f69076c40b24c43...</td>\n      <td>2694</td>\n      <td>a person</td>\n    </tr>\n    <tr>\n      <th>2693</th>\n      <td>which object in this image can eat shrimp for ...</td>\n      <td>conceptnet/e/5bb3acd409621ad5c3f5e538f6dd518ef...</td>\n      <td>2693</td>\n      <td>a person</td>\n    </tr>\n    <tr>\n      <th>2692</th>\n      <td>which object in this image is capable of havin...</td>\n      <td>conceptnet/e/68a5cf83aa30b037c970d13d240133c80...</td>\n      <td>2692</td>\n      <td>people</td>\n    </tr>\n    <tr>\n      <th>2691</th>\n      <td>which object in this image can read books for ...</td>\n      <td>conceptnet/e/c33dfdb9ab5491d363fcfdef4aea4c0d9...</td>\n      <td>2691</td>\n      <td>people</td>\n    </tr>\n    <tr>\n      <th>2690</th>\n      <td>what object in this image is capable of drinki...</td>\n      <td>conceptnet/e/860456ca67e26e8f3ea70dd6be3a19062...</td>\n      <td>2690</td>\n      <td>people</td>\n    </tr>\n    <tr>\n      <th>2701</th>\n      <td>which object in this image is capable of viewi...</td>\n      <td>conceptnet/e/5d0b6fba16ab793623f7166e370bb020c...</td>\n      <td>2701</td>\n      <td>a person</td>\n    </tr>\n    <tr>\n      <th>2702</th>\n      <td>which object in this image is capable of growi...</td>\n      <td>conceptnet/e/bbfc83cd9727d8e6344f15308ae50e1a9...</td>\n      <td>2702</td>\n      <td>a person</td>\n    </tr>\n    <tr>\n      <th>2668</th>\n      <td>which object in this image is alive?</td>\n      <td>conceptnet/e/68deacafe10698d720fdb9675a17df8b1...</td>\n      <td>2668</td>\n      <td>people</td>\n    </tr>\n    <tr>\n      <th>2669</th>\n      <td>which object in this image can run a shop?</td>\n      <td>conceptnet/e/8178071edf6e30e45398899c450884559...</td>\n      <td>2669</td>\n      <td>a person</td>\n    </tr>\n    <tr>\n      <th>2666</th>\n      <td>which object in this image can dance for enjoy...</td>\n      <td>conceptnet/e/89001d8c3856dcbd4476e103cd8c274fd...</td>\n      <td>2666</td>\n      <td>people</td>\n    </tr>\n    <tr>\n      <th>2667</th>\n      <td>which object in this image can forget things?</td>\n      <td>conceptnet/e/cc62ad88f167316fba3ab002be9074033...</td>\n      <td>2667</td>\n      <td>people</td>\n    </tr>\n    <tr>\n      <th>2664</th>\n      <td>what object in this image eats food off a plate?</td>\n      <td>conceptnet/e/51450449fe13ad00575cea760b67212fb...</td>\n      <td>2664</td>\n      <td>people</td>\n    </tr>\n    <tr>\n      <th>2665</th>\n      <td>which object in this image can blow out candles?</td>\n      <td>conceptnet/e/2338d8329efa29dea31fb9f9b5b165392...</td>\n      <td>2665</td>\n      <td>a person</td>\n    </tr>\n    <tr>\n      <th>2662</th>\n      <td>what object in this image can pout?</td>\n      <td>conceptnet/e/0c9efbc5fca7d7b5e8644c5fa58d23e29...</td>\n      <td>2662</td>\n      <td>people</td>\n    </tr>\n    <tr>\n      <th>2663</th>\n      <td>what object in this image can govern other peo...</td>\n      <td>conceptnet/e/ad5b22b10e7257b24c48de7fe5e2ac774...</td>\n      <td>2663</td>\n      <td>people</td>\n    </tr>\n    <tr>\n      <th>2660</th>\n      <td>which yellow object in this image can be found...</td>\n      <td>conceptnet/e/7bfd4bb48a5170ac62c3b520e430ef036...</td>\n      <td>2660</td>\n      <td>a tennis ball</td>\n    </tr>\n    <tr>\n      <th>2661</th>\n      <td>what object in this image can stand on one leg?</td>\n      <td>conceptnet/e/c22d5cfe2b9e6b52b0c9cc8da6b48c66f...</td>\n      <td>2661</td>\n      <td>a person</td>\n    </tr>\n  </tbody>\n</table>\n</div>"
     },
     "execution_count": 11,
     "metadata": {},
     "output_type": "execute_result"
    },
    {
     "data": {
      "text/plain": "<Figure size 432x288 with 1 Axes>",
      "image/png": "[encoded data removed]"
     },
     "metadata": {
      "needs_background": "light"
     },
     "output_type": "display_data"
    }
   ],
   "source": [
    "imgid_with_max_questions = img_question_counts.index[0]\n",
    "show_fvqa_image(imgid_with_max_questions)\n",
    "col = ['question','fact', 'question_id', 'answer']\n",
    "questions_data_df[questions_data_df['img_file'] == imgid_with_max_questions][col]"
   ],
   "metadata": {
    "collapsed": false,
    "pycharm": {
     "name": "#%%\n"
    }
   }
  },
  {
   "cell_type": "markdown",
   "source": [
    "### Visual Concepts Processing"
   ],
   "metadata": {
    "collapsed": false,
    "pycharm": {
     "name": "#%% md\n"
    }
   }
  },
  {
   "cell_type": "code",
   "execution_count": 12,
   "outputs": [
    {
     "name": "stdout",
     "output_type": "stream",
     "text": [
      "Total visual_concepts length =  1247\n",
      "Unique visual_concepts length =  1218\n"
     ]
    }
   ],
   "source": [
    "# Load Visula Concept Classes\n",
    "\n",
    "coco_classes = np.asarray(['__background__', 'person', 'bicycle', 'car', 'motorcycle', 'airplane', 'bus',\n",
    "                           'train', 'truck', 'boat', 'traffic light', 'fire hydrant', 'stop sign',\n",
    "                           'parking meter', 'bench', 'bird', 'cat', 'dog', 'horse', 'sheep', 'cow',\n",
    "                           'elephant', 'bear', 'zebra', 'giraffe', 'backpack', 'umbrella', 'handbag',\n",
    "                           'tie', 'suitcase', 'frisbee', 'skis','snowboard', 'sports ball', 'kite',\n",
    "                           'baseball bat', 'baseball glove', 'skateboard', 'surfboard', 'tennis racket',\n",
    "                           'bottle', 'wine glass', 'cup', 'fork', 'knife', 'spoon', 'bowl', 'banana',\n",
    "                           'apple', 'sandwich', 'orange', 'broccoli', 'carrot', 'hot dog', 'pizza',\n",
    "                           'donut', 'cake', 'chair', 'couch', 'potted plant', 'bed', 'dining table',\n",
    "                           'toilet', 'tv', 'laptop', 'mouse', 'remote', 'keyboard', 'cell phone',\n",
    "                           'microwave', 'oven', 'toaster', 'sink', 'refrigerator',\n",
    "                           'book', 'clock', 'vase', 'scissors', 'teddy bear', 'hair drier', 'toothbrush'])\n",
    "\n",
    "imagenet_classes = np.asarray(['__background__', 'accordion', 'airplane', 'ant', 'antelope', 'apple', 'armadillo',\n",
    "                    'artichoke', 'axe', 'baby bed', 'backpack', 'bagel', 'balance beam', 'banana', 'band aid', 'banjo', 'baseball',\n",
    "                    'basketball', 'bathing cap', 'beaker', 'bear', 'bee', 'bell pepper', 'bench', 'bicycle', 'binder', 'bird',\n",
    "                    'bookshelf', 'bow tie', 'bow', 'bowl', 'brassiere', 'burrito', 'bus', 'butterfly', 'camel', 'can opener',\n",
    "                    'car', 'cart', 'cattle', 'cello', 'centipede', 'chain saw', 'chair', 'chime', 'cocktail shaker', 'coffee maker',\n",
    "                    'computer keyboard', 'computer mouse', 'corkscrew', 'cream', 'croquet ball', 'crutch', 'cucumber',\n",
    "                    'cup or mug', 'diaper', 'digital clock', 'dishwasher', 'dog', 'domestic cat', 'dragonfly', 'drum', 'dumbbell',\n",
    "                    'electric fan', 'elephant', 'face powder', 'fig', 'filing cabinet', 'flower pot', 'flute', 'fox', 'french horn',\n",
    "                    'frog', 'frying pan', 'giant panda', 'goldfish', 'golf ball', 'golfcart', 'guacamole', 'guitar', 'hair dryer',\n",
    "                     'hair spray', 'hamburger', 'hammer', 'hamster', 'harmonica', 'harp', 'hat with a wide brim', 'head cabbage',\n",
    "                     'helmet', 'hippopotamus', 'horizontal bar', 'horse', 'hotdog', 'iPod', 'isopod', 'jellyfish', 'koala bear',\n",
    "                     'ladle', 'ladybug', 'lamp', 'laptop', 'lemon', 'lion', 'lipstick', 'lizard', 'lobster', 'maillot', 'maraca',\n",
    "                     'microphone', 'microwave', 'milk can', 'miniskirt', 'monkey', 'motorcycle', 'mushroom', 'nail', 'neck brace',\n",
    "                     'oboe', 'orange', 'otter', 'pencil box', 'pencil sharpener', 'perfume', 'person', 'piano', 'pineapple',\n",
    "                     'ping-pong ball', 'pitcher', 'pizza', 'plastic bag', 'plate rack', 'pomegranate', 'popsicle', 'porcupine',\n",
    "                     'power drill', 'pretzel', 'printer', 'puck', 'punching bag', 'purse', 'rabbit', 'racket', 'ray', 'red panda',\n",
    "                     'refrigerator', 'remote control', 'rubber eraser', 'rugby ball', 'ruler', 'salt or pepper shaker', 'saxophone',\n",
    "                     'scorpion', 'screwdriver', 'seal', 'sheep', 'ski', 'skunk', 'snail', 'snake', 'snowmobile', 'snowplow', 'soap dispenser',\n",
    "                     'soccer ball', 'sofa', 'spatula', 'squirrel', 'starfish', 'stethoscope', 'stove', 'strainer', 'strawberry', 'stretcher',\n",
    "                     'sunglasses', 'swimming trunks', 'swine', 'syringe', 'table', 'tape player', 'tennis ball', 'tick', 'tie', 'tiger',\n",
    "                     'toaster', 'traffic light', 'train', 'trombone', 'trumpet', 'turtle', 'tv or monitor', 'unicycle', 'vacuum', 'violin',\n",
    "                     'volleyball', 'waffle iron', 'washer', 'water bottle', 'watercraft', 'whale', 'wine bottle', 'zebra'])\n",
    "\n",
    "places_365_classes = []\n",
    "\n",
    "utils_path = \"utils\"\n",
    "\n",
    "with open(os.path.join(utils_path, 'places365classes.txt')) as class_file:\n",
    "    for line in class_file:\n",
    "        places_365_classes.append(line.strip().split(' ')[0][3:])\n",
    "\n",
    "hoi_file = open(os.path.join(utils_path, \"hico_list_hoi.txt\"))\n",
    "next(hoi_file)\n",
    "next(hoi_file)\n",
    "hoi_dictionary = {}\n",
    "hois = []\n",
    "\n",
    "verb_dictionary = {}\n",
    "verbs_list = []\n",
    "for line in hoi_file:\n",
    "    no_zeros = line.strip(\"0\")\n",
    "    line = no_zeros.split()\n",
    "    hoi_dictionary[line[0]] = \" \".join(line[1:])\n",
    "    hois.append(\" \".join(line[1:]))\n",
    "\n",
    "verb_dictionary = {}\n",
    "a_file = open(os.path.join(utils_path, \"hico_list_vb.txt\"))\n",
    "next(a_file)\n",
    "next(a_file)\n",
    "for line in a_file:\n",
    "    key, value = line.split()\n",
    "    key = key.strip(\"0\")\n",
    "    verb_dictionary[key] = value\n",
    "    verbs_list.append(value)\n",
    "\n",
    "visual_concepts = []\n",
    "visual_concepts.extend(coco_classes.tolist())\n",
    "visual_concepts.extend(imagenet_classes.tolist())\n",
    "visual_concepts.extend(places_365_classes)\n",
    "visual_concepts.extend(hois)\n",
    "print('Total visual_concepts length = ', len(visual_concepts))\n",
    "visual_concepts = pd.Series(np.array(visual_concepts)).unique()\n",
    "print('Unique visual_concepts length = ', len(visual_concepts))\n",
    "\n",
    "visual_concepts_count_words = Counter(visual_concepts)\n",
    "visual_concepts_total_words = len(visual_concepts)\n",
    "visual_concepts_sorted_words = visual_concepts_count_words.most_common(visual_concepts_total_words)\n",
    "visual_concepts_vocab_to_int = {w:i for i, (w,c) in enumerate(visual_concepts_sorted_words)}\n",
    "visual_concepts_int_to_vocab = {i:w for i, (w,c) in enumerate(visual_concepts_sorted_words)}"
   ],
   "metadata": {
    "collapsed": false,
    "pycharm": {
     "name": "#%%\n"
    }
   }
  },
  {
   "cell_type": "code",
   "execution_count": 13,
   "outputs": [],
   "source": [
    "# Visula concept Processing\n",
    "coco_index = []\n",
    "coco_objects = []\n",
    "\n",
    "imagenet_index = []\n",
    "imagenet_objects = []\n",
    "\n",
    "hoi_index = []\n",
    "hoi_labels = []\n",
    "\n",
    "places365_index = []\n",
    "places365_labels = []\n",
    "\n",
    "json_dir = 'fvqa_data//visual_concepts'\n",
    "\n",
    "detected_visual_concepts_i = []\n",
    "detected_visual_concepts = []\n",
    "\n",
    "for index, row in merged_ques_facts_df.iterrows():\n",
    "    img_name = row['img_file']\n",
    "    ext = img_name.split('.')[-1:][0]\n",
    "    json_file = img_name.replace(ext, 'json')\n",
    "    f = open(os.path.join(json_dir, json_file))\n",
    "    json_data = json.load(f)\n",
    "    coco_i = json_data['coco-faster-rcnn']['index']\n",
    "    coco_l = json_data['coco-faster-rcnn']['labels']\n",
    "    imagenet_i = json_data['imagenet-faster-rcnn']['index']\n",
    "    imagenet_l = json_data['imagenet-faster-rcnn']['labels']\n",
    "    places365_i = np.array(json_data['places-365-detections']['index'])[0:5]\n",
    "    places365_l = np.array(json_data['places-365-detections']['labels'])[0:5]\n",
    "    hoi_i = []\n",
    "    hoi_l = []\n",
    "\n",
    "    coco_index.append(coco_i); coco_objects.append(coco_l)\n",
    "    imagenet_index.append(imagenet_i); imagenet_objects.append(imagenet_l)\n",
    "    places365_index.append(places365_i); places365_labels.append(places365_l)\n",
    "\n",
    "    if len(json_data['results']) > 0:\n",
    "        hoi_i = json_data['results']['hoi']['index']\n",
    "        hoi_l = json_data['results']['hoi']['hois']\n",
    "        hoi_index.append(hoi_i)\n",
    "        hoi_labels.append(hoi_l)\n",
    "    else:\n",
    "        hoi_index.append([])\n",
    "        hoi_labels.append([])\n",
    "    single_visual_concepts = []\n",
    "\n",
    "    single_visual_concepts.extend(coco_l)\n",
    "    single_visual_concepts.extend(imagenet_l)\n",
    "    single_visual_concepts.extend(places365_l.tolist())\n",
    "    single_visual_concepts.extend(hoi_l)\n",
    "    single_visual_concepts = pd.Series(np.array(single_visual_concepts)).unique()\n",
    "\n",
    "    single_visual_concepts_i = [visual_concepts_vocab_to_int[x] for x in single_visual_concepts]\n",
    "\n",
    "    detected_visual_concepts.append(single_visual_concepts)\n",
    "    detected_visual_concepts_i.append(single_visual_concepts_i)"
   ],
   "metadata": {
    "collapsed": false,
    "pycharm": {
     "name": "#%%\n"
    }
   }
  },
  {
   "cell_type": "code",
   "execution_count": 14,
   "outputs": [],
   "source": [
    "# merged_ques_facts_df['coco_index'] = coco_index\n",
    "merged_ques_facts_df['coco_objects'] = coco_objects\n",
    "# merged_ques_facts_df['imagenet_index'] = imagenet_index\n",
    "merged_ques_facts_df['imagenet_objects'] = imagenet_objects\n",
    "# merged_ques_facts_df['places365_index'] = places365_index\n",
    "merged_ques_facts_df['places365_labels'] = places365_labels\n",
    "# merged_ques_facts_df['hoi_index'] = hoi_index\n",
    "merged_ques_facts_df['hoi_labels'] = hoi_labels\n",
    "merged_ques_facts_df['detected_visual_concepts'] = detected_visual_concepts\n",
    "# merged_ques_facts_df['detected_visual_concepts_i'] = detected_visual_concepts_i\n",
    "\n",
    "# del coco_index, coco_objects, imagenet_index, imagenet_objects, places365_index, places365_labels, hoi_index, hoi_labels\n",
    "# del detected_visual_concepts, detected_visual_concepts_i"
   ],
   "metadata": {
    "collapsed": false,
    "pycharm": {
     "name": "#%%\n"
    }
   }
  },
  {
   "cell_type": "code",
   "execution_count": 15,
   "outputs": [],
   "source": [
    "from string import punctuation\n",
    "def visual_concept_preprocessing(detected_visual_concepts):\n",
    "    return [vc.replace('_', ' ').replace('/', ' ') for vc in detected_visual_concepts if vc not in punctuation]\n",
    "merged_ques_facts_df['detected_visual_concepts'] = merged_ques_facts_df['detected_visual_concepts'].apply(lambda vc:visual_concept_preprocessing(vc))"
   ],
   "metadata": {
    "collapsed": false,
    "pycharm": {
     "name": "#%%\n"
    }
   }
  },
  {
   "cell_type": "code",
   "execution_count": 16,
   "outputs": [
    {
     "data": {
      "text/plain": "270     [person, traffic light, umbrella, handbag, tie...\n271     [cell phone, lipstick, chemistry lab, clean ro...\n569     [person, bottle, knife, bowl, vase, face powde...\n272     [cell phone, lipstick, chemistry lab, clean ro...\n383     [bottle, cup, book, lipstick, beauty salon, co...\n                              ...                        \n5635    [person, umbrella, handbag, tennis racket, cru...\n5636    [person, umbrella, handbag, tennis racket, cru...\n5637    [person, umbrella, handbag, tennis racket, cru...\n5630    [bird, turtle, desert sand, iceberg, science m...\n5632    [person, umbrella, handbag, tennis racket, cru...\nName: detected_visual_concepts, Length: 5826, dtype: object"
     },
     "execution_count": 16,
     "metadata": {},
     "output_type": "execute_result"
    }
   ],
   "source": [
    "merged_ques_facts_df['detected_visual_concepts']"
   ],
   "metadata": {
    "collapsed": false,
    "pycharm": {
     "name": "#%%\n"
    }
   }
  },
  {
   "cell_type": "code",
   "execution_count": 17,
   "outputs": [
    {
     "data": {
      "text/plain": "                                               question  \\\n270            Which object can be found in a jazz club   \n271   Tell me the name of the cosmetics shown in thi...   \n569   what object in this image is a cosmetic placed...   \n272     What is the object shown in this image used for   \n383   Which item in this image is used for colouring...   \n3756         Which item in this image is to color lips?   \n273         Where can you find the object in this image   \n274               Which object in this image has a tail   \n5221                              What object has tail?   \n275   what object in this image is commonly eaten fo...   \n\n                           img_file             answer  \\\n270   ILSVRC2012_test_00050748.JPEG            trumpet   \n271   ILSVRC2012_test_00000444.JPEG           lipstick   \n569   ILSVRC2012_test_00045533.JPEG           lipstick   \n272   ILSVRC2012_test_00000444.JPEG  coloring the lips   \n383   ILSVRC2012_test_00002289.JPEG           lipstick   \n3756  ILSVRC2012_test_00045533.JPEG           lipstick   \n273   ILSVRC2012_test_00000444.JPEG   a makeup cabinet   \n274   COCO_val2014_000000005599.jpg               kite   \n5221  COCO_val2014_000000023200.jpg              Kite.   \n275   COCO_val2014_000000015079.jpg           sandwich   \n\n                               detected_visual_concepts  \n270   [person, traffic light, umbrella, handbag, tie...  \n271   [cell phone, lipstick, chemistry lab, clean ro...  \n569   [person, bottle, knife, bowl, vase, face powde...  \n272   [cell phone, lipstick, chemistry lab, clean ro...  \n383   [bottle, cup, book, lipstick, beauty salon, co...  \n3756  [person, bottle, knife, bowl, vase, face powde...  \n273   [cell phone, lipstick, chemistry lab, clean ro...  \n274   [person, umbrella, sports ball, kite, coast, p...  \n5221  [person, kite, surfboard, airplane, iceberg, o...  \n275   [knife, sandwich, dining table, hamburger, ice...  ",
      "text/html": "<div>\n<style scoped>\n    .dataframe tbody tr th:only-of-type {\n        vertical-align: middle;\n    }\n\n    .dataframe tbody tr th {\n        vertical-align: top;\n    }\n\n    .dataframe thead th {\n        text-align: right;\n    }\n</style>\n<table border=\"1\" class=\"dataframe\">\n  <thead>\n    <tr style=\"text-align: right;\">\n      <th></th>\n      <th>question</th>\n      <th>img_file</th>\n      <th>answer</th>\n      <th>detected_visual_concepts</th>\n    </tr>\n  </thead>\n  <tbody>\n    <tr>\n      <th>270</th>\n      <td>Which object can be found in a jazz club</td>\n      <td>ILSVRC2012_test_00050748.JPEG</td>\n      <td>trumpet</td>\n      <td>[person, traffic light, umbrella, handbag, tie...</td>\n    </tr>\n    <tr>\n      <th>271</th>\n      <td>Tell me the name of the cosmetics shown in thi...</td>\n      <td>ILSVRC2012_test_00000444.JPEG</td>\n      <td>lipstick</td>\n      <td>[cell phone, lipstick, chemistry lab, clean ro...</td>\n    </tr>\n    <tr>\n      <th>569</th>\n      <td>what object in this image is a cosmetic placed...</td>\n      <td>ILSVRC2012_test_00045533.JPEG</td>\n      <td>lipstick</td>\n      <td>[person, bottle, knife, bowl, vase, face powde...</td>\n    </tr>\n    <tr>\n      <th>272</th>\n      <td>What is the object shown in this image used for</td>\n      <td>ILSVRC2012_test_00000444.JPEG</td>\n      <td>coloring the lips</td>\n      <td>[cell phone, lipstick, chemistry lab, clean ro...</td>\n    </tr>\n    <tr>\n      <th>383</th>\n      <td>Which item in this image is used for colouring...</td>\n      <td>ILSVRC2012_test_00002289.JPEG</td>\n      <td>lipstick</td>\n      <td>[bottle, cup, book, lipstick, beauty salon, co...</td>\n    </tr>\n    <tr>\n      <th>3756</th>\n      <td>Which item in this image is to color lips?</td>\n      <td>ILSVRC2012_test_00045533.JPEG</td>\n      <td>lipstick</td>\n      <td>[person, bottle, knife, bowl, vase, face powde...</td>\n    </tr>\n    <tr>\n      <th>273</th>\n      <td>Where can you find the object in this image</td>\n      <td>ILSVRC2012_test_00000444.JPEG</td>\n      <td>a makeup cabinet</td>\n      <td>[cell phone, lipstick, chemistry lab, clean ro...</td>\n    </tr>\n    <tr>\n      <th>274</th>\n      <td>Which object in this image has a tail</td>\n      <td>COCO_val2014_000000005599.jpg</td>\n      <td>kite</td>\n      <td>[person, umbrella, sports ball, kite, coast, p...</td>\n    </tr>\n    <tr>\n      <th>5221</th>\n      <td>What object has tail?</td>\n      <td>COCO_val2014_000000023200.jpg</td>\n      <td>Kite.</td>\n      <td>[person, kite, surfboard, airplane, iceberg, o...</td>\n    </tr>\n    <tr>\n      <th>275</th>\n      <td>what object in this image is commonly eaten fo...</td>\n      <td>COCO_val2014_000000015079.jpg</td>\n      <td>sandwich</td>\n      <td>[knife, sandwich, dining table, hamburger, ice...</td>\n    </tr>\n  </tbody>\n</table>\n</div>"
     },
     "execution_count": 17,
     "metadata": {},
     "output_type": "execute_result"
    }
   ],
   "source": [
    "col_filter = ['question','img_file', 'answer', 'detected_visual_concepts']\n",
    "merged_ques_facts_df.loc[:, col_filter].head(10)"
   ],
   "metadata": {
    "collapsed": false,
    "pycharm": {
     "name": "#%%\n"
    }
   }
  },
  {
   "cell_type": "code",
   "execution_count": 18,
   "outputs": [
    {
     "name": "stdout",
     "output_type": "stream",
     "text": [
      "total coco classes =  81\n",
      "total imagenet classes =  201\n",
      "total imagenet and coco =  282\n",
      "common classes imagenet and coco =  29\n",
      "===============================\n",
      "Total Visual Concepts\n",
      "===============================\n",
      "different classes imagenet and coco =  253\n",
      "total places 365 classes =  365\n",
      "total hoi (human object interaction) classes =  600\n",
      "total Visual Concepts =  1218\n"
     ]
    }
   ],
   "source": [
    "common_classes = [x for x in coco_classes if x in imagenet_classes and places_365_classes]\n",
    "len_coco = len(coco_classes)\n",
    "len_imagenet = len(imagenet_classes)\n",
    "print('total coco classes = ', len_coco)\n",
    "print('total imagenet classes = ', len_imagenet)\n",
    "print('total imagenet and coco = ', len_coco + len_imagenet)\n",
    "print('common classes imagenet and coco = ', len(common_classes))\n",
    "\n",
    "print('===============================')\n",
    "print('Total Visual Concepts')\n",
    "print('===============================')\n",
    "print('different classes imagenet and coco = ', len_coco + len_imagenet - len(common_classes))\n",
    "print('total places 365 classes = ', len(places_365_classes))\n",
    "print('total hoi (human object interaction) classes = ', len(hois))\n",
    "\n",
    "print('total Visual Concepts = ',  len_coco + len_imagenet - len(common_classes) + len(places_365_classes) + len(hois))"
   ],
   "metadata": {
    "collapsed": false,
    "pycharm": {
     "name": "#%%\n"
    }
   }
  },
  {
   "cell_type": "markdown",
   "source": [
    "### Loading GloVe 300d embeddings"
   ],
   "metadata": {
    "collapsed": false,
    "pycharm": {
     "name": "#%% md\n"
    }
   }
  },
  {
   "cell_type": "code",
   "execution_count": 19,
   "outputs": [],
   "source": [
    "embeddings_dict = {}\n",
    "path_glove300d = \"F:\\\\NUST\\\\thesis_local\\\\Practice\\\\straight-to-the-fact\\\\glove.6B\"\n",
    "with open(os.path.join(path_glove300d, \"glove.6B.300d.txt\"), 'r', encoding=\"utf-8\") as f:\n",
    "    for line in f:\n",
    "        values = line.split()\n",
    "        word = values[0]\n",
    "        vector = np.asarray(values[1:], \"float32\")\n",
    "        embeddings_dict[word] = vector"
   ],
   "metadata": {
    "collapsed": false,
    "pycharm": {
     "name": "#%%\n"
    }
   }
  },
  {
   "cell_type": "code",
   "execution_count": 20,
   "outputs": [
    {
     "data": {
      "text/plain": "array([-5.5598e-01,  2.7967e-02, -3.2289e-01, -7.5042e-02, -1.3179e-01,\n        1.3271e-01, -1.5578e-01,  1.1468e-01, -5.5989e-02, -1.6266e+00,\n        1.2912e-01, -2.0525e-01, -2.1620e-01, -8.7432e-02, -8.5335e-02,\n        3.3107e-02, -2.2467e-01, -9.9248e-02, -2.1777e-01, -2.5671e-01,\n        6.3234e-02,  5.0175e-01, -1.6002e-01,  3.0961e-01,  2.0912e-01,\n       -2.9045e-01,  4.2019e-02, -2.2472e-02,  2.4542e-01, -7.5772e-02,\n       -5.6552e-01,  6.2501e-01, -3.5209e-01, -6.0992e-01, -9.3654e-01,\n        2.5625e-01,  2.1782e-01, -2.4591e-01, -5.3093e-01,  2.0034e-01,\n        2.2471e-02,  7.3258e-02, -2.9808e-02,  8.2042e-02, -2.6838e-01,\n        1.1861e-02,  5.9190e-01,  8.2740e-03, -7.7560e-02,  3.7252e-01,\n        1.2574e-01,  5.6610e-02,  6.1548e-01,  1.9826e-01, -5.3163e-02,\n        2.7715e-01,  1.5825e-01,  1.3941e-01,  3.5109e-01, -2.1844e-01,\n        1.0418e-01,  8.9417e-02,  1.1362e-01,  2.5903e-01, -1.0444e-01,\n       -3.0457e-01, -3.6033e-01, -2.2062e-01, -4.7356e-01,  4.8017e-01,\n        3.7563e-02, -4.2485e-01, -2.6248e-02, -1.4516e-01,  1.2868e-02,\n        4.1353e-02,  1.9570e-01,  3.4752e-01,  1.5859e-01,  9.7584e-02,\n       -1.5350e-01,  2.4506e-01, -1.2282e-01,  2.4122e-01, -4.2262e-01,\n       -2.0683e-01, -2.6847e-01, -2.2687e-01, -3.8363e-02,  5.3815e-01,\n       -7.7009e-01,  3.2950e-01, -4.2145e-01, -2.9034e-01,  5.9593e-01,\n       -4.1209e-02, -3.3990e-01,  3.4740e-01,  1.4502e-01, -2.1154e-01,\n       -2.9105e-01,  6.1433e-04, -3.4839e-02, -6.4460e-02,  5.0316e-01,\n        3.4938e-01,  6.1775e-01, -1.5638e-01, -1.0320e-03,  1.3306e-01,\n       -8.5934e-03,  5.2760e-01,  2.2607e-01, -1.9192e-01,  2.3934e-01,\n        4.2408e-01,  2.0813e-01, -2.6179e-01, -1.6044e-02,  1.1079e-01,\n       -3.2166e-01,  4.0659e-01, -3.6406e-01,  3.2891e-01,  1.7975e-01,\n       -2.1641e-01,  4.4669e-02,  2.1080e-01,  5.8726e-01, -3.9853e-01,\n        2.5704e-01,  1.5711e-01,  2.4748e-01,  2.4896e-01, -3.0250e-01,\n        2.3385e-01, -3.6426e-01,  1.2516e-01, -1.3441e-01,  2.3204e-01,\n       -1.9477e-01,  3.6307e-01,  7.8216e-02,  2.1459e-01, -8.8479e-01,\n       -1.0320e-03,  2.4846e-01, -2.2664e-02, -5.1744e-01,  3.3348e-01,\n        7.7626e-02, -7.3894e-02,  3.1331e-01,  2.7608e-02, -1.8036e-01,\n        3.1385e-01,  1.8773e-01, -2.0807e-01,  5.4752e-02,  1.8627e-01,\n        1.4948e-02, -5.4603e-02,  1.8363e-01, -1.4509e-01,  1.9973e-01,\n       -8.4463e-02, -1.9198e-01,  4.3096e-01,  3.5008e-01,  2.0263e-01,\n        3.2626e-01, -1.1434e-01, -3.7039e-01, -1.5726e-01,  8.5719e-02,\n       -4.8072e-01, -5.9093e-02, -1.1483e-01, -9.7550e-02,  8.2889e-02,\n        4.5523e-01, -1.3926e-01, -2.0038e-01,  3.8418e-02, -4.1626e-01,\n       -1.4689e-01, -1.6075e-02,  2.0048e-02, -4.1291e-01,  4.6730e-01,\n        1.4628e-01, -2.2465e-01, -7.6520e-02,  1.4452e-02, -6.4826e-02,\n       -2.0555e-01, -4.4776e-01, -2.0911e-01, -6.0918e-01, -3.0740e-02,\n        9.8495e-01,  1.6478e-01,  1.5810e-02, -8.9430e-02,  3.1878e-02,\n        1.2131e-01,  4.0689e-02,  5.8173e-01, -6.8877e-02,  1.1653e-01,\n       -1.1146e-01, -2.6589e-01, -2.0509e-02, -4.3364e-01, -9.0592e-02,\n        1.8698e-01, -7.9930e-02,  2.0000e-01,  2.6330e-01,  5.1927e-01,\n       -8.9245e-01,  4.6274e-01,  1.9883e-01,  1.9705e-01, -1.6986e-03,\n       -7.1647e-02, -1.0824e-01, -1.7091e-01,  5.8744e-02,  6.1106e-01,\n       -9.9967e-02, -2.4145e-01,  2.7622e-01, -2.5510e-01, -2.5294e-02,\n        1.4823e-01, -4.8736e-02, -4.1892e-02, -3.5993e-01,  3.3607e-01,\n        3.3322e-01, -1.9354e-01,  4.3084e-01, -2.0168e-01,  1.0703e-01,\n        1.1302e-01,  8.7479e-02,  2.4039e-01,  2.5433e-01,  2.4598e-01,\n        2.8586e-01, -7.2290e-03, -2.5722e-02, -6.8679e-02,  4.3549e-01,\n        3.9416e-01,  2.0423e-01, -5.6354e-03,  2.3410e-01, -2.1078e-01,\n        9.6383e-02, -1.7153e-02, -2.0387e-01,  1.5907e-01, -5.9309e-01,\n       -6.9500e-02,  8.9703e-01,  1.6332e-01,  1.4649e-01,  3.2346e-01,\n       -5.2467e-03, -3.8847e-01,  4.4625e-01,  4.4645e-01,  1.5730e-01,\n        8.5002e-02, -2.1817e+00, -2.4456e-01,  3.1126e-01, -5.7708e-02,\n       -3.2410e-02, -3.2448e-01,  5.0954e-01,  1.5179e-01, -2.5333e-01,\n        7.3417e-01, -7.0299e-02,  1.4858e-01, -4.1725e-01, -1.1175e-01,\n        3.3894e-01, -3.1731e-01, -2.7810e-01, -4.3502e-01,  3.0036e-01,\n       -4.7751e-01, -4.3544e-01,  1.7415e-01, -1.2442e-01,  1.5370e-01],\n      dtype=float32)"
     },
     "execution_count": 20,
     "metadata": {},
     "output_type": "execute_result"
    }
   ],
   "source": [
    "embeddings_dict['person']"
   ],
   "metadata": {
    "collapsed": false,
    "pycharm": {
     "name": "#%%\n"
    }
   }
  },
  {
   "cell_type": "code",
   "execution_count": 21,
   "outputs": [],
   "source": [
    "from scipy import spatial\n",
    "def calculate_cosine_distance(a, b):\n",
    "    cosine_distance = float(spatial.distance.cosine(a, b))\n",
    "    return cosine_distance\n",
    "def calculate_cosine_similarity(a, b):\n",
    "    cosine_similarity = 1 - calculate_cosine_distance(a, b)\n",
    "    return cosine_similarity"
   ],
   "metadata": {
    "collapsed": false,
    "pycharm": {
     "name": "#%%\n"
    }
   }
  },
  {
   "cell_type": "markdown",
   "source": [
    "### Similar Facts"
   ],
   "metadata": {
    "collapsed": false,
    "pycharm": {
     "name": "#%% md\n"
    }
   }
  },
  {
   "cell_type": "code",
   "execution_count": 28,
   "outputs": [],
   "source": [
    "from string import punctuation\n",
    "def question_glove_embedding(question):\n",
    "    question = ''.join([q for q in question if q not in punctuation])\n",
    "    # print(question)\n",
    "    question = question.split()\n",
    "    question_words_emb = []\n",
    "    for w in question:\n",
    "        try:\n",
    "            question_words_emb.append(embeddings_dict[w.lower()])\n",
    "        except KeyError:\n",
    "            question_words_emb.append(np.zeros(300))\n",
    "    data = np.array(question_words_emb)\n",
    "    question_glove_emb = np.average(data, axis=0)\n",
    "    return question_glove_emb\n",
    "\n",
    "def visual_concept_glove_embedding(vc_list):\n",
    "    vc_list = [word for vc in vc_list for word in vc.split()]\n",
    "    vc_words_emb = [0] * 300\n",
    "    # print('all', vc_list)\n",
    "    # print('exsist')\n",
    "    for w in vc_list:\n",
    "        if w in fvqa_vocab_to_int:\n",
    "            # print(w.lower())\n",
    "            try:\n",
    "                vc_words_emb.append(embeddings_dict[w.lower()])\n",
    "            except KeyError:\n",
    "                vc_words_emb.append(np.zeros(300))\n",
    "    data = np.array(vc_words_emb)\n",
    "    visual_concepts_glove_emb = np.average(data, axis=0)\n",
    "    return visual_concepts_glove_emb"
   ],
   "metadata": {
    "collapsed": false,
    "pycharm": {
     "name": "#%%\n"
    }
   }
  },
  {
   "cell_type": "code",
   "execution_count": 29,
   "outputs": [],
   "source": [
    "def fact_glove_embeddings(fact):\n",
    "    e1_labels = fact['e1_label']\n",
    "    e1_labels = ''.join([label for label in e1_labels if label not in punctuation])\n",
    "    fact_words = e1_labels.split()\n",
    "    e2_labels = fact['e2_label']\n",
    "    e2_labels = ''.join([label for label in e2_labels if label not in punctuation])\n",
    "    fact_words.extend(e2_labels.split())\n",
    "    fact_emb = []\n",
    "    for w in fact_words:\n",
    "        try:\n",
    "            fact_emb.append(embeddings_dict[w.lower()])\n",
    "        except KeyError:\n",
    "            fact_emb.append(np.zeros(300))\n",
    "    fact_emb = np.array(fact_emb)\n",
    "    fact_emb = np.average(fact_emb, axis=0)\n",
    "    return fact_emb"
   ],
   "metadata": {
    "collapsed": false,
    "pycharm": {
     "name": "#%%\n"
    }
   }
  },
  {
   "cell_type": "code",
   "execution_count": 31,
   "outputs": [
    {
     "name": "stdout",
     "output_type": "stream",
     "text": [
      "top similar fact and its similarity: 0.8627697229385376 KB                                                  conceptnet\n",
      "e1_label     difference between bicycle and audience one be...\n",
      "e2_label                                                 metal\n",
      "uri          /a/[/r/MadeOf/,/c/en/difference_between_bicycl...\n",
      "surface      [[difference between a bicycle and an audience...\n",
      "dataset                                     /d/conceptnet/4/en\n",
      "sources      /and/[/s/activity/omcs/globalmind/,/s/contribu...\n",
      "r                                                    /r/MadeOf\n",
      "context                                               /ctx/all\n",
      "score                                                      1.0\n",
      "e1           /c/en/difference_between_bicycle_and_audience_...\n",
      "e2                                                 /c/en/metal\n",
      "isnegated                                                  NaN\n",
      "Name: conceptnet/e/bdb278197e7b379d787a9fb0fd24688a73a44da9, dtype: object\n",
      "ground truth fact and its similarity: 0.5102825164794922 KB                                                  conceptnet\n",
      "e1_label                                               trumpet\n",
      "e2_label                                             jazz club\n",
      "uri          /a/[/r/AtLocation/,/c/en/trumpet/,/c/en/jazz_c...\n",
      "surface      You are likely to find [[a trumpet]] in [[a ja...\n",
      "dataset                                     /d/conceptnet/4/en\n",
      "sources      /and/[/s/activity/omcs/globalmind/,/s/contribu...\n",
      "r                                                /r/AtLocation\n",
      "context                                               /ctx/all\n",
      "score                                                      1.0\n",
      "e1                                               /c/en/trumpet\n",
      "e2                                             /c/en/jazz_club\n",
      "isnegated                                                  NaN\n",
      "Name: conceptnet/e/f768f157e4446dd594536f8ef02681515586ba2d, dtype: object\n"
     ]
    }
   ],
   "source": [
    "first_ques = merged_ques_facts_df.iloc[0]\n",
    "most_similar_fact = all_facts_data_df.loc['conceptnet/e/bdb278197e7b379d787a9fb0fd24688a73a44da9']\n",
    "supporting_similar_fact = all_facts_data_df.loc['conceptnet/e/f768f157e4446dd594536f8ef02681515586ba2d']\n",
    "ques_emb = question_glove_embedding(first_ques['question'])\n",
    "vc_emb = visual_concept_glove_embedding(first_ques['detected_visual_concepts'])\n",
    "vc_ques_emb = np.average([ques_emb, vc_emb], axis=0)\n",
    "\n",
    "most_similar_fact_emb = fact_glove_embeddings(most_similar_fact)\n",
    "supporting_similar_fact_emb = fact_glove_embeddings(supporting_similar_fact)\n",
    "\n",
    "most_similar_fact_similarity = calculate_cosine_similarity(vc_ques_emb, most_similar_fact_emb)\n",
    "supporting_similar_fact_similarity = calculate_cosine_similarity(vc_ques_emb, supporting_similar_fact_emb)\n",
    "\n",
    "print('top similar fact and its similarity:', most_similar_fact_similarity, most_similar_fact)\n",
    "print('ground truth fact and its similarity:', supporting_similar_fact_similarity, supporting_similar_fact)"
   ],
   "metadata": {
    "collapsed": false,
    "pycharm": {
     "name": "#%%\n"
    }
   }
  },
  {
   "cell_type": "code",
   "execution_count": 32,
   "outputs": [],
   "source": [
    "merged_ques_facts_df['question_glove_emb'] = merged_ques_facts_df['question'].apply(lambda q:question_glove_embedding(q))\n",
    "merged_ques_facts_df['detected_visual_concepts_glove_emb'] = merged_ques_facts_df['detected_visual_concepts'].apply(lambda vc:visual_concept_glove_embedding(vc))\n",
    "merged_ques_facts_df['vc_ques_avg_emb'] = merged_ques_facts_df.apply(lambda x: np.average([x['question_glove_emb'], x['detected_visual_concepts_glove_emb']], axis=0), axis=1)"
   ],
   "metadata": {
    "collapsed": false,
    "pycharm": {
     "name": "#%%\n"
    }
   }
  },
  {
   "cell_type": "code",
   "execution_count": 33,
   "outputs": [
    {
     "data": {
      "text/plain": "                                     question_glove_emb  \\\n270   [-0.3192547, 0.26529467, -0.13019101, -0.16838...   \n271   [-0.070112996, 0.1646, -0.08106989, -0.3089736...   \n569   [-0.20552087, 0.15748252, -0.018667035, -0.174...   \n272   [-0.26991102, 0.22777131, 0.03530276, -0.27782...   \n383   [-0.21976165, 0.23105346, -0.0057196724, -0.23...   \n...                                                 ...   \n5635  [-0.26219252, 0.16085917, 0.011727732, -0.3932...   \n5636  [-0.26406524, 0.19928311, -0.028189087, -0.270...   \n5637  [-0.23855767, 0.12600236, 0.10651863, -0.26640...   \n5630  [-0.17295003, 0.1182359, -0.05399558, -0.21182...   \n5632  [-0.31933477291992557, 0.06707599681491654, -0...   \n\n                     detected_visual_concepts_glove_emb  \\\n270   [-0.011033769, 0.0069697397, -0.023061635, -0....   \n271   [-0.0054393103, 0.008085377, -0.0063661477, -0...   \n569   [-0.007785855, 0.017889425, -0.0054256804, -0....   \n272   [-0.0054393103, 0.008085377, -0.0063661477, -0...   \n383   [-0.0030261187, 0.009321309, -0.009402407, -0....   \n...                                                 ...   \n5635  [0.0053973957, 0.006078431, -0.008733016, 0.00...   \n5636  [0.0053973957, 0.006078431, -0.008733016, 0.00...   \n5637  [0.0053973957, 0.006078431, -0.008733016, 0.00...   \n5630  [0.00043347242, 0.00538909, -0.009048859, 0.00...   \n5632  [0.0053973957, 0.006078431, -0.008733016, 0.00...   \n\n                                        vc_ques_avg_emb  \n270   [-0.16514423, 0.13613221, -0.07662632, -0.0946...  \n271   [-0.037776154, 0.086342685, -0.043718018, -0.1...  \n569   [-0.10665336, 0.08768597, -0.012046358, -0.098...  \n272   [-0.13767517, 0.11792834, 0.014468305, -0.1442...  \n383   [-0.111393884, 0.12018738, -0.00756104, -0.122...  \n...                                                 ...  \n5635  [-0.12839755, 0.0834688, 0.0014973576, -0.1965...  \n5636  [-0.12933391, 0.10268077, -0.018461052, -0.135...  \n5637  [-0.116580136, 0.0660404, 0.048892807, -0.1330...  \n5630  [-0.08625828, 0.061812494, -0.03152222, -0.105...  \n5632  [-0.15696868861171728, 0.03657721386601528, -0...  \n\n[5826 rows x 3 columns]",
      "text/html": "<div>\n<style scoped>\n    .dataframe tbody tr th:only-of-type {\n        vertical-align: middle;\n    }\n\n    .dataframe tbody tr th {\n        vertical-align: top;\n    }\n\n    .dataframe thead th {\n        text-align: right;\n    }\n</style>\n<table border=\"1\" class=\"dataframe\">\n  <thead>\n    <tr style=\"text-align: right;\">\n      <th></th>\n      <th>question_glove_emb</th>\n      <th>detected_visual_concepts_glove_emb</th>\n      <th>vc_ques_avg_emb</th>\n    </tr>\n  </thead>\n  <tbody>\n    <tr>\n      <th>270</th>\n      <td>[-0.3192547, 0.26529467, -0.13019101, -0.16838...</td>\n      <td>[-0.011033769, 0.0069697397, -0.023061635, -0....</td>\n      <td>[-0.16514423, 0.13613221, -0.07662632, -0.0946...</td>\n    </tr>\n    <tr>\n      <th>271</th>\n      <td>[-0.070112996, 0.1646, -0.08106989, -0.3089736...</td>\n      <td>[-0.0054393103, 0.008085377, -0.0063661477, -0...</td>\n      <td>[-0.037776154, 0.086342685, -0.043718018, -0.1...</td>\n    </tr>\n    <tr>\n      <th>569</th>\n      <td>[-0.20552087, 0.15748252, -0.018667035, -0.174...</td>\n      <td>[-0.007785855, 0.017889425, -0.0054256804, -0....</td>\n      <td>[-0.10665336, 0.08768597, -0.012046358, -0.098...</td>\n    </tr>\n    <tr>\n      <th>272</th>\n      <td>[-0.26991102, 0.22777131, 0.03530276, -0.27782...</td>\n      <td>[-0.0054393103, 0.008085377, -0.0063661477, -0...</td>\n      <td>[-0.13767517, 0.11792834, 0.014468305, -0.1442...</td>\n    </tr>\n    <tr>\n      <th>383</th>\n      <td>[-0.21976165, 0.23105346, -0.0057196724, -0.23...</td>\n      <td>[-0.0030261187, 0.009321309, -0.009402407, -0....</td>\n      <td>[-0.111393884, 0.12018738, -0.00756104, -0.122...</td>\n    </tr>\n    <tr>\n      <th>...</th>\n      <td>...</td>\n      <td>...</td>\n      <td>...</td>\n    </tr>\n    <tr>\n      <th>5635</th>\n      <td>[-0.26219252, 0.16085917, 0.011727732, -0.3932...</td>\n      <td>[0.0053973957, 0.006078431, -0.008733016, 0.00...</td>\n      <td>[-0.12839755, 0.0834688, 0.0014973576, -0.1965...</td>\n    </tr>\n    <tr>\n      <th>5636</th>\n      <td>[-0.26406524, 0.19928311, -0.028189087, -0.270...</td>\n      <td>[0.0053973957, 0.006078431, -0.008733016, 0.00...</td>\n      <td>[-0.12933391, 0.10268077, -0.018461052, -0.135...</td>\n    </tr>\n    <tr>\n      <th>5637</th>\n      <td>[-0.23855767, 0.12600236, 0.10651863, -0.26640...</td>\n      <td>[0.0053973957, 0.006078431, -0.008733016, 0.00...</td>\n      <td>[-0.116580136, 0.0660404, 0.048892807, -0.1330...</td>\n    </tr>\n    <tr>\n      <th>5630</th>\n      <td>[-0.17295003, 0.1182359, -0.05399558, -0.21182...</td>\n      <td>[0.00043347242, 0.00538909, -0.009048859, 0.00...</td>\n      <td>[-0.08625828, 0.061812494, -0.03152222, -0.105...</td>\n    </tr>\n    <tr>\n      <th>5632</th>\n      <td>[-0.31933477291992557, 0.06707599681491654, -0...</td>\n      <td>[0.0053973957, 0.006078431, -0.008733016, 0.00...</td>\n      <td>[-0.15696868861171728, 0.03657721386601528, -0...</td>\n    </tr>\n  </tbody>\n</table>\n<p>5826 rows × 3 columns</p>\n</div>"
     },
     "execution_count": 33,
     "metadata": {},
     "output_type": "execute_result"
    }
   ],
   "source": [
    "col_filter = ['question_glove_emb', 'detected_visual_concepts_glove_emb', 'vc_ques_avg_emb']\n",
    "merged_ques_facts_df[col_filter]"
   ],
   "metadata": {
    "collapsed": false,
    "pycharm": {
     "name": "#%%\n"
    }
   }
  },
  {
   "cell_type": "code",
   "execution_count": 34,
   "outputs": [],
   "source": [
    "all_facts_data_df['glove_emb'] = all_facts_data_df.apply(lambda fact: fact_glove_embeddings(fact), axis=1)"
   ],
   "metadata": {
    "collapsed": false,
    "pycharm": {
     "name": "#%%\n"
    }
   }
  },
  {
   "cell_type": "code",
   "execution_count": 35,
   "outputs": [
    {
     "data": {
      "text/plain": "                                                            KB      e1_label  \\\nconceptnet/e/a9c086711e083ba3503a06846848e30999...  conceptnet   monkey meat   \nconceptnet/e/acfa62a6eab1fd51f6bafca20f46277c37...  conceptnet  neuroimaging   \nconceptnet/e/f00e325c34450297a00026be9a99b63e33...  conceptnet       jamaica   \nconceptnet/e/9e911a1a354fde0b691a62681e10ac3c7c...  conceptnet         train   \nconceptnet/e/a86ca74c722e436c1fdb7084daa45ff03a...  conceptnet   aletschhorn   \n\n                                                             e2_label  \\\nconceptnet/e/a9c086711e083ba3503a06846848e30999...               meat   \nconceptnet/e/acfa62a6eab1fd51f6bafca20f46277c37...              image   \nconceptnet/e/f00e325c34450297a00026be9a99b63e33...             island   \nconceptnet/e/9e911a1a354fde0b691a62681e10ac3c7c...  arrive at station   \nconceptnet/e/a86ca74c722e436c1fdb7084daa45ff03a...           mountain   \n\n                                                                                                  uri  \\\nconceptnet/e/a9c086711e083ba3503a06846848e30999...  /a/[/r/RelatedTo/,/c/en/monkey_meat/n/,/c/en/m...   \nconceptnet/e/acfa62a6eab1fd51f6bafca20f46277c37...  /a/[/r/EtymologicallyDerivedFrom/,/c/en/neuroi...   \nconceptnet/e/f00e325c34450297a00026be9a99b63e33...  /a/[/r/RelatedTo/,/c/en/jamaica/n/,/c/en/island/]   \nconceptnet/e/9e911a1a354fde0b691a62681e10ac3c7c...  /a/[/r/CapableOf/,/c/en/train/,/c/en/arrive_at...   \nconceptnet/e/a86ca74c722e436c1fdb7084daa45ff03a...  /a/[/r/RelatedTo/,/c/en/aletschhorn/n/,/c/en/m...   \n\n                                                                                              surface  \\\nconceptnet/e/a9c086711e083ba3503a06846848e30999...             [[monkey meat]] is related to [[meat]]   \nconceptnet/e/acfa62a6eab1fd51f6bafca20f46277c37...  The word \"[[neuroimaging]]\" etymologically com...   \nconceptnet/e/f00e325c34450297a00026be9a99b63e33...               [[Jamaica]] is related to [[island]]   \nconceptnet/e/9e911a1a354fde0b691a62681e10ac3c7c...            [[a train]] can [[arrive at a station]]   \nconceptnet/e/a86ca74c722e436c1fdb7084daa45ff03a...         [[Aletschhorn]] is related to [[mountain]]   \n\n                                                                dataset  \\\nconceptnet/e/a9c086711e083ba3503a06846848e30999...  /d/wiktionary/en/en   \nconceptnet/e/acfa62a6eab1fd51f6bafca20f46277c37...  /d/wiktionary/en/en   \nconceptnet/e/f00e325c34450297a00026be9a99b63e33...  /d/wiktionary/en/en   \nconceptnet/e/9e911a1a354fde0b691a62681e10ac3c7c...   /d/conceptnet/4/en   \nconceptnet/e/a86ca74c722e436c1fdb7084daa45ff03a...  /d/wiktionary/en/en   \n\n                                                                                              sources  \\\nconceptnet/e/a9c086711e083ba3503a06846848e30999...  /and/[/s/rule/definition_section/,/s/web/en.wi...   \nconceptnet/e/acfa62a6eab1fd51f6bafca20f46277c37...  /and/[/s/rule/etymology_section/,/s/web/en.wik...   \nconceptnet/e/f00e325c34450297a00026be9a99b63e33...  /and/[/s/rule/definition_section/,/s/web/en.wi...   \nconceptnet/e/9e911a1a354fde0b691a62681e10ac3c7c...  /and/[/s/activity/omcs/omcs1_possibly_free_tex...   \nconceptnet/e/a86ca74c722e436c1fdb7084daa45ff03a...  /and/[/s/rule/definition_section/,/s/web/en.wi...   \n\n                                                                               r  \\\nconceptnet/e/a9c086711e083ba3503a06846848e30999...                  /r/RelatedTo   \nconceptnet/e/acfa62a6eab1fd51f6bafca20f46277c37...  /r/EtymologicallyDerivedFrom   \nconceptnet/e/f00e325c34450297a00026be9a99b63e33...                  /r/RelatedTo   \nconceptnet/e/9e911a1a354fde0b691a62681e10ac3c7c...                  /r/CapableOf   \nconceptnet/e/a86ca74c722e436c1fdb7084daa45ff03a...                  /r/RelatedTo   \n\n                                                     context  score  \\\nconceptnet/e/a9c086711e083ba3503a06846848e30999...  /ctx/all    1.0   \nconceptnet/e/acfa62a6eab1fd51f6bafca20f46277c37...  /ctx/all    1.0   \nconceptnet/e/f00e325c34450297a00026be9a99b63e33...  /ctx/all    1.0   \nconceptnet/e/9e911a1a354fde0b691a62681e10ac3c7c...  /ctx/all    1.0   \nconceptnet/e/a86ca74c722e436c1fdb7084daa45ff03a...  /ctx/all    1.0   \n\n                                                                     e1  \\\nconceptnet/e/a9c086711e083ba3503a06846848e30999...  /c/en/monkey_meat/n   \nconceptnet/e/acfa62a6eab1fd51f6bafca20f46277c37...   /c/en/neuroimaging   \nconceptnet/e/f00e325c34450297a00026be9a99b63e33...      /c/en/jamaica/n   \nconceptnet/e/9e911a1a354fde0b691a62681e10ac3c7c...          /c/en/train   \nconceptnet/e/a86ca74c722e436c1fdb7084daa45ff03a...  /c/en/aletschhorn/n   \n\n                                                                         e2  \\\nconceptnet/e/a9c086711e083ba3503a06846848e30999...               /c/en/meat   \nconceptnet/e/acfa62a6eab1fd51f6bafca20f46277c37...              /c/en/image   \nconceptnet/e/f00e325c34450297a00026be9a99b63e33...             /c/en/island   \nconceptnet/e/9e911a1a354fde0b691a62681e10ac3c7c...  /c/en/arrive_at_station   \nconceptnet/e/a86ca74c722e436c1fdb7084daa45ff03a...           /c/en/mountain   \n\n                                                   isnegated  \\\nconceptnet/e/a9c086711e083ba3503a06846848e30999...       NaN   \nconceptnet/e/acfa62a6eab1fd51f6bafca20f46277c37...       NaN   \nconceptnet/e/f00e325c34450297a00026be9a99b63e33...       NaN   \nconceptnet/e/9e911a1a354fde0b691a62681e10ac3c7c...       NaN   \nconceptnet/e/a86ca74c722e436c1fdb7084daa45ff03a...       NaN   \n\n                                                                                            glove_emb  \nconceptnet/e/a9c086711e083ba3503a06846848e30999...  [0.42921934, 0.6463533, 0.08809, -0.22409, 0.0...  \nconceptnet/e/acfa62a6eab1fd51f6bafca20f46277c37...  [-0.011935149, 0.0537815, 0.239025, -0.44934, ...  \nconceptnet/e/f00e325c34450297a00026be9a99b63e33...  [0.206307, -0.43048, -0.40867, 0.033659995, 0....  \nconceptnet/e/9e911a1a354fde0b691a62681e10ac3c7c...  [-0.1689595, 0.11723375, 0.16884, 0.03798775, ...  \nconceptnet/e/a86ca74c722e436c1fdb7084daa45ff03a...  [-0.2162950038909912, 0.2034599930047989, -0.0...  ",
      "text/html": "<div>\n<style scoped>\n    .dataframe tbody tr th:only-of-type {\n        vertical-align: middle;\n    }\n\n    .dataframe tbody tr th {\n        vertical-align: top;\n    }\n\n    .dataframe thead th {\n        text-align: right;\n    }\n</style>\n<table border=\"1\" class=\"dataframe\">\n  <thead>\n    <tr style=\"text-align: right;\">\n      <th></th>\n      <th>KB</th>\n      <th>e1_label</th>\n      <th>e2_label</th>\n      <th>uri</th>\n      <th>surface</th>\n      <th>dataset</th>\n      <th>sources</th>\n      <th>r</th>\n      <th>context</th>\n      <th>score</th>\n      <th>e1</th>\n      <th>e2</th>\n      <th>isnegated</th>\n      <th>glove_emb</th>\n    </tr>\n  </thead>\n  <tbody>\n    <tr>\n      <th>conceptnet/e/a9c086711e083ba3503a06846848e30999b4d3f7</th>\n      <td>conceptnet</td>\n      <td>monkey meat</td>\n      <td>meat</td>\n      <td>/a/[/r/RelatedTo/,/c/en/monkey_meat/n/,/c/en/m...</td>\n      <td>[[monkey meat]] is related to [[meat]]</td>\n      <td>/d/wiktionary/en/en</td>\n      <td>/and/[/s/rule/definition_section/,/s/web/en.wi...</td>\n      <td>/r/RelatedTo</td>\n      <td>/ctx/all</td>\n      <td>1.0</td>\n      <td>/c/en/monkey_meat/n</td>\n      <td>/c/en/meat</td>\n      <td>NaN</td>\n      <td>[0.42921934, 0.6463533, 0.08809, -0.22409, 0.0...</td>\n    </tr>\n    <tr>\n      <th>conceptnet/e/acfa62a6eab1fd51f6bafca20f46277c37f1bcb9</th>\n      <td>conceptnet</td>\n      <td>neuroimaging</td>\n      <td>image</td>\n      <td>/a/[/r/EtymologicallyDerivedFrom/,/c/en/neuroi...</td>\n      <td>The word \"[[neuroimaging]]\" etymologically com...</td>\n      <td>/d/wiktionary/en/en</td>\n      <td>/and/[/s/rule/etymology_section/,/s/web/en.wik...</td>\n      <td>/r/EtymologicallyDerivedFrom</td>\n      <td>/ctx/all</td>\n      <td>1.0</td>\n      <td>/c/en/neuroimaging</td>\n      <td>/c/en/image</td>\n      <td>NaN</td>\n      <td>[-0.011935149, 0.0537815, 0.239025, -0.44934, ...</td>\n    </tr>\n    <tr>\n      <th>conceptnet/e/f00e325c34450297a00026be9a99b63e339e5539</th>\n      <td>conceptnet</td>\n      <td>jamaica</td>\n      <td>island</td>\n      <td>/a/[/r/RelatedTo/,/c/en/jamaica/n/,/c/en/island/]</td>\n      <td>[[Jamaica]] is related to [[island]]</td>\n      <td>/d/wiktionary/en/en</td>\n      <td>/and/[/s/rule/definition_section/,/s/web/en.wi...</td>\n      <td>/r/RelatedTo</td>\n      <td>/ctx/all</td>\n      <td>1.0</td>\n      <td>/c/en/jamaica/n</td>\n      <td>/c/en/island</td>\n      <td>NaN</td>\n      <td>[0.206307, -0.43048, -0.40867, 0.033659995, 0....</td>\n    </tr>\n    <tr>\n      <th>conceptnet/e/9e911a1a354fde0b691a62681e10ac3c7cf09407</th>\n      <td>conceptnet</td>\n      <td>train</td>\n      <td>arrive at station</td>\n      <td>/a/[/r/CapableOf/,/c/en/train/,/c/en/arrive_at...</td>\n      <td>[[a train]] can [[arrive at a station]]</td>\n      <td>/d/conceptnet/4/en</td>\n      <td>/and/[/s/activity/omcs/omcs1_possibly_free_tex...</td>\n      <td>/r/CapableOf</td>\n      <td>/ctx/all</td>\n      <td>1.0</td>\n      <td>/c/en/train</td>\n      <td>/c/en/arrive_at_station</td>\n      <td>NaN</td>\n      <td>[-0.1689595, 0.11723375, 0.16884, 0.03798775, ...</td>\n    </tr>\n    <tr>\n      <th>conceptnet/e/a86ca74c722e436c1fdb7084daa45ff03a93c1ab</th>\n      <td>conceptnet</td>\n      <td>aletschhorn</td>\n      <td>mountain</td>\n      <td>/a/[/r/RelatedTo/,/c/en/aletschhorn/n/,/c/en/m...</td>\n      <td>[[Aletschhorn]] is related to [[mountain]]</td>\n      <td>/d/wiktionary/en/en</td>\n      <td>/and/[/s/rule/definition_section/,/s/web/en.wi...</td>\n      <td>/r/RelatedTo</td>\n      <td>/ctx/all</td>\n      <td>1.0</td>\n      <td>/c/en/aletschhorn/n</td>\n      <td>/c/en/mountain</td>\n      <td>NaN</td>\n      <td>[-0.2162950038909912, 0.2034599930047989, -0.0...</td>\n    </tr>\n  </tbody>\n</table>\n</div>"
     },
     "execution_count": 35,
     "metadata": {},
     "output_type": "execute_result"
    }
   ],
   "source": [
    "all_facts_data_df.head(5)"
   ],
   "metadata": {
    "collapsed": false,
    "pycharm": {
     "name": "#%%\n"
    }
   }
  },
  {
   "cell_type": "code",
   "execution_count": null,
   "outputs": [],
   "source": [
    "predicted_relations_df = pd.read_pickle(\"fvqa_data//relation_type_classifier//predicted_relations.pkl\")\n",
    "merged_ques_facts_df = pd.merge(merged_ques_facts_df, predicted_relations_df, left_index=True, right_index=True)"
   ],
   "metadata": {
    "collapsed": false,
    "pycharm": {
     "name": "#%%\n",
     "is_executing": true
    }
   }
  },
  {
   "cell_type": "code",
   "execution_count": null,
   "outputs": [],
   "source": [
    "merged_ques_facts_df.to_pickle('merged_ques_facts_df.pkl')\n",
    "all_facts_data_df.to_pickle('all_facts_data_df.pkl')"
   ],
   "metadata": {
    "collapsed": false,
    "pycharm": {
     "name": "#%%\n",
     "is_executing": true
    }
   }
  },
  {
   "cell_type": "code",
   "execution_count": null,
   "outputs": [],
   "source": [
    "merged_ques_facts_df = pd.read_pickle(\"merged_ques_facts_df.pkl\")"
   ],
   "metadata": {
    "collapsed": false,
    "pycharm": {
     "name": "#%%\n",
     "is_executing": true
    }
   }
  },
  {
   "cell_type": "code",
   "execution_count": 37,
   "outputs": [],
   "source": [
    "def fact_similarity(merged_df_row):\n",
    "    K= 100\n",
    "    fact_similarity_scores = []\n",
    "    for index, fact_row in all_facts_data_df.iterrows():\n",
    "        fact_similarity_scores.append(calculate_cosine_similarity(merged_df_row['vc_ques_avg_emb'],\n",
    "                                                                             fact_row['glove_emb']))\n",
    "    all_facts_data_df['similarty_scores'] = fact_similarity_scores\n",
    "    sorted_facts_df = all_facts_data_df.sort_values(by=['similarty_scores'], ascending=False)\n",
    "    topKfacts = sorted_facts_df.iloc[0: K]\n",
    "    # print(fact_row)\n",
    "    # print(topKfacts)\n",
    "    return topKfacts.index.tolist(), topKfacts['similarty_scores'].tolist()"
   ],
   "metadata": {
    "collapsed": false,
    "pycharm": {
     "name": "#%%\n"
    }
   }
  },
  {
   "cell_type": "code",
   "execution_count": null,
   "outputs": [
    {
     "name": "stdout",
     "output_type": "stream",
     "text": [
      "270 ) Which object can be found in a jazz club\n"
     ]
    },
    {
     "name": "stderr",
     "output_type": "stream",
     "text": [
      "C:\\ProgramData\\Anaconda3\\envs\\mucko-edit\\lib\\site-packages\\scipy\\spatial\\distance.py:698: RuntimeWarning: invalid value encountered in double_scalars\n",
      "  dist = 1.0 - uv / np.sqrt(uu * vv)\n"
     ]
    },
    {
     "name": "stdout",
     "output_type": "stream",
     "text": [
      "271 ) Tell me the name of the cosmetics shown in this image?\n",
      "569 ) what object in this image is a cosmetic placed on the lips?\n",
      "272 ) What is the object shown in this image used for\n",
      "383 ) Which item in this image is used for colouring the lips?\n",
      "3756 ) Which item in this image is to color lips?\n",
      "273 ) Where can you find the object in this image\n",
      "274 ) Which object in this image has a tail\n",
      "5221 ) What object has tail?\n",
      "275 ) what object in this image is commonly eaten for lunch?\n",
      "276 ) Which object in this image can cut you\n",
      "277 ) Which object in this image can be used for cutting things\n",
      "1905 ) Which object in this image is used for cutting things?\n",
      "278 ) Which object in this image is able to cut food\n",
      "5005 ) Which object in this image is capable of cut food?\n",
      "279 ) Which object in this photo can hurt you\n",
      "974 ) Which thing in the image can hurt you?\n",
      "3519 ) Which object in this image can carry person?\n",
      "5819 ) What object in this image is used to carry people?\n",
      "3960 ) Which object in this image is capcable of carrying person?\n",
      "3518 ) Which food in this image is designed in Italian ?\n",
      "3517 ) Which food in this image is designed in Italian ?\n",
      "3665 ) Which object in this image is of Italian design?\n",
      "3513 ) Which animal in this image can sun itself on a rock?\n",
      "3512 ) Which object pictured in this image is a game system?\n",
      "1627 ) Which gaming system are the person playing in this image?\n",
      "852 ) Tell me the name of the gaming system shown in this image\n",
      "3511 ) Which object in this image is used for preparing food?\n",
      "3483 ) Which object in this image is used for preparing food?\n",
      "3510 ) Which object in this image could be used to heat a pot?\n",
      "4656 ) Which object in this image might be used to heat a pot?\n",
      "823 ) What object in this image can heat a pot?\n",
      "3516 ) What can you find on the pizzas in this this image?\n",
      "3515 ) Which object in this image can be found in petshop?\n",
      "5896 ) What object can be found in a petshop?\n",
      "3514 ) What is this place used for?\n",
      "5034 ) What is this place used for?\n",
      "2688 ) what object in this image can be male or female?\n",
      "2689 ) what object in this image can smell things?\n",
      "2672 ) which object in this image has a sense of smell?\n",
      "5871 ) which object in this picture can smell\n",
      "2684 ) which object in this image is capable of doing a job to earn money?\n",
      "2685 ) what object in this image can dance to music?\n",
      "2686 ) what object in this image can post a letter?\n",
      "2687 ) what object in this image can walk?\n",
      "2680 ) which object in this image is capable of painting a house and a bedroom?\n",
      "2681 ) which object in this image is capable of smelling dirty shoes?\n",
      "2682 ) which object in this image is capable of owning an object?\n",
      "5633 ) which object in this image is capable of owning a object?\n",
      "2683 ) what object in this image can loose weight?\n",
      "99 ) What is the purple object in the image can be used for?\n",
      "4972 ) Which object in this image is used for packing?\n",
      "98 ) What thing in the image you can use to pack clothing\n",
      "5815 ) Which object in this image is used to pack clothing?\n",
      "4878 ) Which object in this image is used for packing clothing?\n",
      "4137 ) Which object in this image is used for packing clothes?\n",
      "91 ) What object in this image is used for covering hands?\n",
      "90 ) which object in this image is used for jazz\n",
      "283 ) which object is this image is used for jazz\n",
      "284 ) which object in this image is used for jazz\n",
      "93 ) What is the tropical fruit?\n",
      "92 ) What is the yellow fruit?\n",
      "95 ) Which thing in the image do you need in a dark room?\n",
      "1996 ) Which indoor furniture in this image brightens up a dark area?\n",
      "845 ) Which thing in the image is required in the dark? \n",
      "5093 ) What object can light dark area?\n",
      "94 ) What is this place can be used for?\n",
      "253 ) This room is used for what?\n",
      "3993 ) What can this place in the image be used for?\n",
      "1608 ) What is the place used for?\n",
      "1012 ) What the room is used for?\n",
      "4370 ) What is the place in this image used for?\n",
      "97 ) What is the vehicle in the water?\n",
      "3199 ) Which kind of vehicle is in this image?\n",
      "3543 ) Which object in this image is a vehicle?\n",
      "96 ) Whether the animal in the image is bigger or smaller than dolphin?\n",
      "1177 ) Which object in this image belongs to the category Edible plants?\n",
      "5876 ) Which object in this image belongs to the category Edible plants?\n",
      "5603 ) Are there any objects in this image belonging to the category of edible plants?\n",
      "1176 ) Which object in this image belongs to orange vegetables?\n",
      "2167 ) What vegetable in the image is orange?\n",
      "1473 ) Which object in this image is a orange vegetable?\n",
      "1474 ) Which object in this image is a orange vegetable?\n",
      "1175 ) Which object in this image is related to lawn?\n",
      "2239 ) Which object in this image is related to lawn?\n",
      "3173 ) Which object is this image is also known as 'lawn'?\n",
      "1174 ) Which object in this image is a very large plant?\n",
      "1173 ) Which object in this image is made of wood?\n",
      "5688 ) Which object in this image is made of wood?\n",
      "1172 ) What is white in this image?\n",
      "1171 ) Which winter sport is presented in this image?\n",
      "4989 ) Which object in this image belongs to the category snow sports？\n",
      "5833 ) Which object is related to the Winter sports in this image?\n",
      "3051 ) Which object in this image belongs to the category Winter sports?\n",
      "1170 ) What is covered in snow in this image?\n",
      "1179 ) Which European cuisine is shown in this image?\n",
      "1178 ) What is the object in the middle used for?\n",
      "4005 ) Which object in this image is used for eating?\n",
      "4133 ) Which object in this image is used for eating?\n",
      "876 ) What stringed instrument is seen here?\n",
      "370 ) What stringed instrument is seen here?\n",
      "654 ) What is the name of the stringed instrument\n",
      "5135 ) Which object in this image is a stringed instrument?\n",
      "877 ) Which vehicle in the image has windows?\n",
      "3432 ) Which object in this image is able to stock food?\n",
      "5526 ) Which object in this image can be used to stock food?\n",
      "776 ) Which stuff in the image is used for stock food?\n",
      "623 ) Which object in this image can be used to connect to internet?\n",
      "875 ) Which is cooler? Them machine in the image or car?\n",
      "1594 ) What object shown here is cooler than a car?\n",
      "622 ) What is the object in this image used for?\n",
      "789 ) Which object in this image is dedicated for listening to music\n",
      "446 ) These thing as sued for what?\n",
      "872 ) What are they doing with the bicycle?\n",
      "1225 ) What objects in this image are capable of dressing themselves?\n",
      "4786 ) which object in this image can dress themselves?\n",
      "3435 ) Which object in this image has a wet nose?\n",
      "620 ) Which vehicle has two wheels in this image\n",
      "5561 ) Which object in this image has two wheels?\n",
      "870 ) What thing in the image can be used to record a scene?\n",
      "627 ) Which thing in the image can run?\n",
      "626 ) What is the stick style instrument in the image?\n",
      "4592 ) What is the place in this image used for?\n",
      "2754 ) What activity is facilitated by the place?\n",
      "1605 ) What is the place in this image used for?\n",
      "4115 ) What is the place in this image used for?\n",
      "4593 ) Which object in this image can travel very fast?\n",
      "2322 ) Which object in this image is travelling very fast?\n",
      "624 ) Which vehicle is more important?\n",
      "4590 ) Which object in this image could be used for sitting on?\n",
      "5146 ) What object in this image is for sitting on?\n",
      "4591 ) Which object might be found in a pitcher's hand?\n",
      "2745 ) Which object in this image is capable of eat fish?\n",
      "2747 ) Which object in this image is capable of eat fish?\n",
      "2749 ) Which object in this image is capable of eat fish?\n",
      "2748 ) Which object in this image is capable of eat fish?\n",
      "4032 ) Which object in this image likes eating fish?\n",
      "2746 ) Which object in this image is capable of eat fish?\n",
      "2750 ) Which object in this image is capable of eat fish?\n",
      "2744 ) Which object in this image is related to liquor?\n",
      "4595 ) Which object in this image is an item of Kitchenware?\n",
      "4845 ) What popular pet is in this image?\n",
      "2060 ) Which object in this image is a popular pet?\n",
      "3253 ) Which object in this image is a popular pet?\n",
      "4598 ) What object is used to guarantee road safety?\n",
      "4599 ) Which sweet food is healthier than chocolate?\n",
      "5421 ) Which object in this image belongs to the category Foods?\n",
      "5422 ) what's shown in the image?\n",
      "3554 ) Which sort of food is in this image?\n",
      "4497 ) Which object in this image belongs to the category Foods?\n",
      "4734 ) What is one thing in this image that can drink a glass of milk?\n",
      "4735 ) Which object in this image is related to flatbread?\n",
      "2039 ) which fruit in this image has less natural sugar than sweet potato?\n",
      "4843 ) Which object in this image can be found in lake river and ocean?\n",
      "455 ) Where can people find fish\n",
      "4738 ) What fast food item is in this image?\n",
      "2047 ) What fast food can be found in this image?\n",
      "3841 ) Which object in this image belongs to Fast food\n",
      "4739 ) Which object in this image is used for self expression?\n",
      "393 ) Do you need small balls or big balls for this game?\n",
      "392 ) Why do they have a cake?\n",
      "391 ) Whether this animal lives in the wild or in the room?\n",
      "390 ) Which object in this image can catch a fly?\n",
      "397 ) what object in this image is related to plumbing?\n",
      "396 ) what object in this image is a kind of seat?\n",
      "395 ) What kind of vitamin does this breakfast contain?\n",
      "230 ) Which food in this image is full of vitamin C\n",
      "511 ) Which thing in the image are full of vitamin C?\n",
      "1852 ) What shown here is full of vitamin C?\n",
      "568 ) What kind of vitamin does the fruit in the image contain?\n",
      "4369 ) What is the object in the hand of the person rich of ?\n",
      "394 ) What are they making?\n",
      "399 ) What animal is playful and friendly\n",
      "3436 ) What shown in this image is generally very playful and friendly?\n",
      "398 ) Which animal in this image can be a friend to humans?\n",
      "2309 ) Which object in this image can sometimes be found in the Amazon river?\n",
      "2308 ) Which object in this image is related to lignify?\n",
      "4729 ) Which object in this image can sometimes be found in a horserace?\n",
      "4728 ) Which object in this image is filled with pressurised air?\n",
      "2857 ) Which object in this image is filedl with pressurised air?\n",
      "2301 ) Which object in this image can be found in traffic scenes?\n",
      "2300 ) Which object in this image is related to four wheels?\n",
      "2303 ) Which action is longer than the action shown in this image?\n",
      "2302 ) Which object in this image can travel on road?\n",
      "2305 ) Which object in this image can be used to heat food?\n",
      "218 ) Tell me what thing is the object in the middle capable of \n",
      "3053 ) which object in this image can be used to heat food?\n",
      "2304 ) What is the place in this image used for?\n",
      "2720 ) What is the place in this image used for?\n",
      "5674 ) What is the place in this image used for?\n",
      "5676 ) What is the place in this image used for?\n",
      "5068 ) What do you do in a kitchenette?\n",
      "4723 ) which object in this image comes from the fruit category\n",
      "52 ) What is the fruit in the image?\n",
      "4722 ) which object in this image is taller than shrub?\n",
      "5847 ) Which object in this image used to open things?\n",
      "5846 ) Which kind of sport in this image comes from North America?\n",
      "5845 ) What sport in the image belongs to team sports?\n",
      "5844 ) What object in this image is related to mitts?\n",
      "5843 ) What objects in this image are used to protect heads?\n",
      "1215 ) Which object in this image is used for protecting the head?\n",
      "5842 ) What object in this image is a type of protective garment?\n",
      "3288 ) What object in this image is a type of protective garment?\n",
      "5841 ) What object in this image is used to hit a baseball?\n",
      "1130 ) Which object in this image is used for hitting baseballs?\n",
      "4674 ) ￼Which object in this image is used for hitting baseballs?\n",
      "28 ) What object in this image can hit a baseball?\n",
      "1607 ) Which object in this image is used for hit baseball?\n",
      "2875 ) What is used to hit a baseball?\n",
      "853 ) What is the object in the men's hand could be used for?\n",
      "5840 ) What ball game is in this image?\n",
      "5849 ) Which object in this image is related to whey?\n",
      "5848 ) What kind of bottle opener can be seen here?\n",
      "3748 ) Which object in this image is rich in potassium?\n",
      "1356 ) Which object in this image has the property of rich in potassium?\n",
      "4403 ) Which object in this image is rich in potassium?\n",
      "3749 ) Which object in this image is related to plantains?\n",
      "3746 ) Which object in this image is related to knot?\n",
      "2218 ) Which object in this image is related to knot?\n",
      "1943 ) Which piece of clothes in this image has a knot?\n",
      "3747 ) What is the place in this image used for?\n",
      "3744 ) Which animal in this image belongs to the category Herpetology?\n",
      "3745 ) Which object in the image has shell?\n",
      "5631 ) Which object in the image has a hard shell?\n",
      "3742 ) Which object in this image is a round object?\n",
      "1425 ) Which thing in this image is a round object?\n",
      "3743 ) Which object in this image belongs to the category Bedding?\n",
      "3769 ) Which object in this image can be classified into Bedding?\n",
      "3740 ) Which accessory belongs to the category fashion?\n",
      "3741 ) Which accessory in this image can be found in woman's closet?\n",
      "4620 ) What object in this image is used for ensure  the Road traffic safety?\n",
      "4621 ) Which object in this image is an animal?\n",
      "4944 ) Which object in this image is an animal?\n",
      "1008 ) What is the animal in the image?\n",
      "4622 ) Which object in this image is long-necked?\n",
      "2510 ) Which object has long neck in this image?\n",
      "2093 ) What object in this image has a long neck?\n",
      "4430 ) Which animal in the image has a long neck?\n",
      "4969 ) Which animal in this image has the property of long neck?\n",
      "4002 ) Which object in this image has a long neck?\n",
      "353 ) what object in this image has a long neck?\n",
      "3693 ) Which object in this image is long-necked?\n",
      "807 ) Which animal in this image is long-necked\n",
      "5543 ) Which object in this image has a long neck?\n",
      "5039 ) Which object in this image has a long neck?\n",
      "2647 ) Which long neck animal can you see in this image?\n",
      "4623 ) Which object in this image is related to okapi?\n",
      "4624 ) which object in this image sometimes wants stay alone\n",
      "4625 ) What people excercise on ski slopes?\n",
      "1588 ) what can we find in the scene of this image\n",
      "5412 ) What can be found in this place?\n",
      "5413 ) what can you observe in this image\n",
      "5058 ) What can be found in this place?\n",
      "5451 ) What can be found in this place?\n",
      "1344 ) What can be found in this place?\n",
      "1223 ) What can be found in this place?\n",
      "4085 ) What can be found in this place?\n",
      "5552 ) What are you likely to find in this place?\n",
      "3546 ) What can be found in this place?\n",
      "5602 ) What is one place that skiiers can ski on?\n",
      "5452 ) What can be found in this place?\n",
      "1589 ) What can be found in this place?\n",
      "3583 ) Where is the boy playing?\n",
      "4304 ) What can be found in this place?\n",
      "4626 ) Which skiing equipment can you see in this image?\n",
      "4627 ) Which action is better than the action shown in this image\n",
      "5223 ) Which action is better than the action shown in this image\n",
      "5222 ) Which action is better than the action shown in this image\n",
      "4628 ) What portable electronic devices appear in this image? \n",
      "4629 ) What portable electronic devices appear in this image? \n",
      "4923 ) What portable electronic devices can be found in this image? \n",
      "179 ) What is the colour of the animal in the image?\n",
      "1799 ) Which object in this image has the property of usually green color?\n",
      "181 ) Which thing in this picture is typically green?\n",
      "178 ) What is on the animal?\n",
      "1720 ) Which object in this image has stripes?\n",
      "1184 ) Which object in this image has stripes?\n",
      "5318 ) What thing does the animal in this image have as a part?\n",
      "5313 ) What thing does the animal in this image have as a part?\n",
      "5312 ) What in this image has stripes?\n",
      "5311 ) What in this image has stripes?\n",
      "5317 ) What thing does the animal in this image have as a part?\n",
      "5316 ) What thing does the animal in this image have as a part?\n",
      "5315 ) What thing does the animal in this image have as a part?\n",
      "5314 ) What thing does the animal in this image have as a part?\n",
      "2770 ) Which object in this image has stripes?\n",
      "2476 ) Which object in this image has stripes?\n",
      "501 ) What does a zebra have\n",
      "5904 ) Which object in this image has stripes?\n",
      "1787 ) Which object in this image has a stripe\n",
      "177 ) Why the woman in the image move the umbrella?\n",
      "601 ) What the umbrella in the image is used for?\n",
      "176 ) What might be the next step?\n",
      "175 ) What are the green long object in the image?\n",
      "2262 ) Which object in this image is green?\n",
      "174 ) Where can you find this cake?\n",
      "388 ) What is this cake for?\n",
      "5199 ) Which object in this image is related to wedding?\n",
      "173 ) Which thing in the image you can use to climb?\n",
      "172 ) Which thing in this picture is used to see the time?\n",
      "325 ) what object in this image can be used to check the time?\n",
      "171 ) What is a clock used for\n",
      "170 ) Which object is used to travel long distances?\n",
      "1985 ) What is the drink vessel?\n",
      "1768 ) Which object in this image is made of brass?\n",
      "1769 ) Which object in this image could have a shelf?\n",
      "1762 ) Which fruit in this image has red yellow or green in color?\n",
      "1763 ) Which fruit in this image has red yellow or green in color?\n",
      "3648 ) Which object in this image has the color of red yellow or green?\n",
      "1760 ) Which object in this image desires trick others?\n",
      "1761 ) What thing does the fruit in this image have as a part?\n",
      "1766 ) Which object in this image has three keys?\n",
      "3025 ) Which object in this image has three keys?\n",
      "3791 ) Which object in this image has three keys?\n",
      "1767 ) Which object in this image is coiled?\n",
      "1764 ) What object is sometimes green?\n",
      "1765 ) What's less dark than lip liner and visible in this image?\n",
      "692 ) Which thing can make a dull pencil sharp again?\n",
      "1547 ) what is it in this image  related to horse?\n",
      "690 ) What is the colour object used for?\n",
      "3151 ) Which object in this image is used for flying and having fun?\n",
      "2204 ) Which object in this image is used for flying and having fun?\n",
      "3709 ) Which object in this image is used for fly and have fun?\n",
      "1489 ) Which flying object in this image is used to have fun?\n",
      "691 ) Why people can be killed by this animal?\n",
      "5482 ) Which object in this image has the property of poisonous?\n",
      "696 ) What is umbrella used for?\n",
      "697 ) Which object in this image is used to heat food?\n",
      "4354 ) Which object in this image is used for heating food?\n",
      "43 ) Which device in the image can be used for heating food?\n",
      "5739 ) Which object in this image is used for heating food?\n",
      "694 ) What alcoholic beverage can be seen in this image?\n",
      "1541 ) What animal in this image can growl?\n",
      "698 ) Which object in this image is used to store food\n",
      "106 ) What thing in this image is used for storing food\n",
      "699 ) Which vehicle in this image is less stable than car\n",
      "2705 ) what thing is more stable than the vehicle shown in this image?\n",
      "1548 ) what is it in this image belongs to the category Seats?\n",
      "3986 ) Which object in this image belongs to the category Seats?\n",
      "1549 ) which area does the object <somewhere,somesize> can be found in?\n",
      "5618 ) What can be found in this place?\n",
      "3301 ) What can be found in this place?\n",
      "5619 ) Where does the place in this image can be found in?\n",
      "2509 ) What is this place usually located?\n",
      "5612 ) What is one item of kitchenware that can be seen here?\n",
      "2145 ) Which object in this image belongs to the category Kitchenware?\n",
      "4474 ) What object in this image belongs to the kitchenware?\n",
      "5219 ) What do you call the Kitchenware on which the food is served? \n",
      "5613 ) Which object in this image is often made for birthdays?\n",
      "3644 ) Which food in this image is made for birthday?\n",
      "5610 ) Which object in this image has four legs?\n",
      "2015 ) Which object in this image has four legs?\n",
      "2231 ) Which object in this image has a four leg?\n",
      "2230 ) Which object in this image has four legs?\n",
      "5620 ) which object in this image has four legs?\n",
      "3675 ) Which object in this image has four legs?\n",
      "5611 ) Which object in this image is a faithful pet?\n",
      "3737 ) Which object in this image is a faithful pet?\n",
      "5616 ) What  does the place shown in this image have as a part?\n",
      "5617 ) What can be found in this place?\n",
      "4103 ) Which object in this image is likely to be found in zoo?\n",
      "227 ) What are you likely to find in zoos?\n",
      "4713 ) What can be found in this zoo?\n",
      "5614 ) What can you find at this place?\n",
      "5615 ) what is it in this image belongs to the category Team sports?\n",
      "4668 ) Which object in this image is a cartilaginous fish?\n",
      "5375 ) Which animal in this image is a Cartilaginous fish?\n",
      "3580 ) Which object in this image is related to red?\n",
      "258 ) Which food in this image has a strong relationship with root vegetable\n",
      "259 ) Which object in this image belongs to root vegetables\n",
      "252 ) What is on the pizza?\n",
      "5855 ) Which object in this image  has a cheese?\n",
      "250 ) What object in this image is used for shearing?\n",
      "251 ) Which animal in this picture can be found at a zoo?\n",
      "256 ) Which object in this image is made of paper?\n",
      "59 ) Which object shown in this photo is made of paper?\n",
      "257 ) Which object in this image has many pages?\n",
      "254 ) Where might one sleep here?\n",
      "255 ) What animal likes to eat the the root vegetable in the image?\n",
      "3689 ) which object in this image is capable of watching TV?\n",
      "5083 ) which object in this image is capable of watching TV?\n",
      "3688 ) which object in this image is capable of ordering goods?\n",
      "3683 ) Which object in this image belongs to the category Sports equipment?\n",
      "3682 ) which object in this image is sold in the pastry shop\n",
      "3681 ) Which object in this image is capable of travel on road?\n",
      "3864 ) Which object in this image is capable of travelling on the road?\n",
      "3680 ) which object in this image moves slower than a horse?\n",
      "1303 ) what animal is faster than the animal in this image\n",
      "3687 ) which object in this image is capable of paying a bill?\n",
      "3686 ) which object in this image has a left ear?\n",
      "3685 ) which object can be found in this place shown in this image\n",
      "3094 ) Where are you likely to find a gift?\n",
      "3684 ) Which object in this image is capable of studying archeology?\n",
      "1450 ) which object in this image is capable of studying archeology?\n",
      "5691 ) which object in this image is capable of studying archeology?\n",
      "2518 ) What is the dog lying on in the image?\n",
      "2519 ) What is the dog lying on in the image?\n",
      "2517 ) What is the dog lying on in the image?\n",
      "1243 ) What in this image is used for lie on?\n",
      "513 ) Which furniture in the image can I lie on? \n",
      "4030 ) What is the dog liying on ?\n",
      "2514 ) Which object in this image is used for sitting on?\n",
      "3853 ) what kind of object in this image can we use for sitting down\n",
      "2515 ) Which object in this image is used for sitting down?\n",
      "3433 ) Which object in this image is used for sit down?\n",
      "4463 ) Which object in this image is used for sit down？\n",
      "1237 ) Which object in this image is used for sitting down?\n",
      "2516 ) Which object in this image is related to wine?\n",
      "2983 ) Which object in this image is used for drinking wine?\n",
      "2511 ) what kind of object in this image can be found in African regions\n",
      "2512 ) Which object in this image has a bone in their neck\n",
      "3351 ) Which object in this image has a bone in their neck?\n",
      "4980 ) Which animal in this image has bones in their long neck?\n",
      "2513 ) Which object in this image can hold liquid?\n",
      "3531 ) Which object in this image is a citrus?\n",
      "2268 ) Which object in this image is a citrus?\n",
      "3530 ) What kind of food is in this image?\n",
      "5053 ) Which object in this table belongs to the category Food?\n",
      "2030 ) Which oject belongs to the Food category?\n",
      "2636 ) What sort of food can you see in this image?\n",
      "3753 ) Which object in this image is Food?\n",
      "3752 ) Which object in this image is Food?\n",
      "4402 ) which object can be eaten?\n",
      "5022 ) Which object in this image is a kind of Food?\n",
      "3533 ) which object in this image is better than plain soda？\n",
      "3532 ) Which object in this image is yellow?\n",
      "4418 ) Which object in this image is yellow?\n",
      "2171 ) Which object in this image is yellow?\n",
      "2521 ) Name one of yellow-coloured fruit in the image.\n",
      "5400 ) Which object in this image is yellow?\n",
      "3535 ) Which object in this image is a two wheeled vehicle?\n",
      "290 ) How many wheels do these vehicle have?\n",
      "3534 ) Which is safer than the action in this image?\n",
      "3537 ) Which object in this image is related to water?\n",
      "2506 ) Which objects in this image are related to water?\n",
      "3536 ) Which object in this image is used for transportation?\n",
      "2190 ) Which object in this image is used for transportation?\n",
      "5054 ) Which object in this image belongs to the category Plants?\n",
      "2253 ) Which object in this image belongs to the category Plants?\n",
      "3538 ) What can be found in this place?\n",
      "5056 ) Which music instrument can be found in this image?\n",
      "5057 ) Which object in this image do people use when playing tennis?\n",
      "4432 ) Which object in this image is used for playing tennis?\n",
      "686 ) What can we use the racket in the image for?\n",
      "2992 ) Which object in this image is used for playing tennis?\n",
      "4150 ) What is the large object in the right of this image used for?\n",
      "5050 ) Is this office neat and tidy?\n",
      "1150 ) What property does the place in this image have?\n",
      "5051 ) Which object in this image can be used for Telecommunications?\n",
      "5052 ) Which console in this image belongs to the category Video game?\n",
      "1422 ) Which object in this image is a video game?\n",
      "1159 ) Which object in this image can dare another to do something careless?\n",
      "1158 ) Which object in this image is capable of eating animal?\n",
      "1155 ) Which object in this image has branches?\n",
      "1389 ) Which object in this image has branches?\n",
      "1154 ) What is the place shown in the image used for\n",
      "1153 ) What is the place in this image used for?\n",
      "1157 ) What thing in this image might hiss?\n",
      "4290 ) Which animal in this image is related to hiss?\n",
      "1156 ) Which object in this image might be found in a reptile house?\n",
      "1151 ) Which object in this image is capable of calculation?\n",
      "1152 ) Which object in this image is often called man's best friend?\n",
      "4299 ) Which object in this image has a palm?\n",
      "4298 ) ￼Which object in this image is an arachnid?\n",
      "4295 ) Which object in this image is a device to protect something placed beneath it?\n",
      "4294 ) Which object in this image can be found in an hourglass?\n",
      "4297 ) Which object in this image is used for protect people from sun and rain?\n",
      "1587 ) Which object in this image is used for protect person from rain?\n",
      "559 ) Which object in this image is used to protect people from sun and rain\n",
      "3735 ) What is the object on the right part of this image used for?\n",
      "5242 ) Which object in this image is used to protect people from sun and rain?\n",
      "3256 ) Which accessory in this image is used to protect person from sun and rain?\n",
      "130 ) What is the object the girl holding used to?\n",
      "4490 ) In the image, what is used for protecting person from sun and rain?\n",
      "4296 ) Which object in this image is used for shade?\n",
      "4291 ) Which thing in this image can be found in your shoes?\n",
      "4293 ) Which object in this image is related to desert?\n",
      "4458 ) Which object in this image could also be related to deserts?\n",
      "4292 ) Which object in this image is gritty?\n",
      "4749 ) Which object in this image if food storage?\n",
      "4748 ) What is lightening the room and place in this image?\n",
      "588 ) Which object is used for lighten rooms and places\n",
      "1324 ) Which object in this image belongs to the category Land transport?\n",
      "4743 ) Which object in this image gets hotter than a desktop?\n",
      "4744 ) which object in this image often produces more heat than desktop when works\n",
      "4742 ) Which object in this image is used for holding a drink?\n",
      "4741 ) Which object in this image has a string\n",
      "416 ) Which instrument in this image has strings?\n",
      "2986 ) Which object in this image has strings?\n",
      "4740 ) What is the name of the music instrument in this image?\n",
      "4747 ) Which object is gererating light in this image?\n",
      "4530 ) Which objects in this image are used to generate light?\n",
      "2128 ) Which object in this image is used for generating light?\n",
      "4746 ) Which object in this image contains wine?\n",
      "4745 ) Which object in this image is a computer?\n",
      "2855 ) Which object in this image is a kind of computer?\n",
      "5869 ) What is the instrument in the middle used for?\n",
      "5868 ) Which object in this image is being played?\n",
      "5865 ) Which ball sport is shown in this image?\n",
      "4829 ) what kind of ball sport is this in this image\n",
      "3050 ) What ball sport is being played in this image?\n",
      "2478 ) Which thing in this image is a ball sport?\n",
      "5867 ) Which object in this image has four legs?\n",
      "2926 ) Which object in this image has a four legs?\n",
      "5866 ) Which object in this image has the property of fat\n",
      "5861 ) Which object in this image is related to Glass?\n",
      "2284 ) which objects in the images contain the category Glass\n",
      "5860 ) What mammal is in this image?\n",
      "5863 ) ￼Which object in this image is round?\n",
      "5582 ) What is the round object in this image?\n",
      "5032 ) Which object in this image is round?\n",
      "3104 ) Which object in the image is round\n",
      "3103 ) Which object in the image is round\n",
      "5862 ) Which object in this image might be found in a sporting goods store?\n",
      "2183 ) Which object in the image makes a sound of woof woof?\n",
      "2182 ) Which object in this image one can eat with?\n",
      "1457 ) Which object in this image is used to eat with?\n",
      "2181 ) IN this images, which action is less important than the action shown?\n",
      "3349 ) In this image, which action is less significant than the action shown?\n",
      "2180 ) Which food in this images is round and has a whole in it?\n",
      "2187 ) which object in this image is a form of land transportation?\n",
      "2186 ) which object in this image can be as a means of road transportation?\n",
      "2185 ) Which object in the image is considered a loyal pet?\n",
      "2184 ) What has worse hearing than the large object in the center of the image?\n",
      "4606 ) which object in this image is less skittish than cat?\n",
      "4607 ) What animal in the image is bigger than cat?\n",
      "1022 ) Which animal is usually bigger than the other?\n",
      "2189 ) which object in this image is driven by a motorcyclist?\n",
      "2188 ) which object in this image is a vehicle?\n",
      "4583 ) What type of vehicle is shown here?\n",
      "1621 ) Which kind of vehicle is in this image?\n",
      "4602 ) Which object in this image is used to listen to the body?\n",
      "4603 ) Which object in this image is a listening instrument?\n",
      "4600 ) What property does the place in this image have?\n",
      "4601 ) Which object in this image is used to listen to your heart?\n",
      "151 ) How many wings does the animal in the image has?\n",
      "150 ) Tell me the name of the insect shown in this image\n",
      "153 ) What is happened here?\n",
      "152 ) Whether this vehicle is cheaper or more expensive than plane? \n",
      "155 ) Which object will you use when you want to sit?\n",
      "1995 ) Which object in this image is used for sitting in?\n",
      "5049 ) Which object in this image is used for sitting in?\n",
      "154 ) What is the base of this pizza?\n",
      "419 ) What is base of this pizza?\n",
      "157 ) Which thing in this image is found in sea water?\n",
      "159 ) Where can people find a dining table\n",
      "158 ) Which creature in this picture is more primitive than humans?\n",
      "2229 ) Which object in this image is more primitive than human beings?\n",
      "2727 ) Which object in this image is capable of lowering its landing gear?\n",
      "2726 ) What is the place in this image used for?\n",
      "1510 ) What is the place in this image used for?\n",
      "2725 ) Which object in this image has a landing gear?\n",
      "2724 ) Which thing in this image has seeds?\n",
      "2723 ) Which thing in this image is edible?\n",
      "2722 ) What can usually be found in this place?\n",
      "4557 ) What can be found in this place?\n",
      "3138 ) what can we find in the place described in this image\n",
      "2721 ) What is the place in this image used for?\n",
      "4691 ) What do people use the place in this image for?\n",
      "1506 ) what kind of scene is shown in the image?\n",
      "2729 ) Which object in this image is used for flying?\n",
      "2773 ) What is the large object in the bottom of this image used for?\n",
      "3982 ) What is the object that the picture is take from used for?\n",
      "4093 ) Which object in this image is used for flying?\n",
      "2728 ) Which object in this image is used for transporting people?\n",
      "3089 ) Which object in this image is related to locomotive?\n",
      "3088 ) Which object can be called as a iron horse?\n",
      "818 ) Which thing in this image can be used to protect one's head\n",
      "819 ) Which thing in the image can be used for storing cloths?\n",
      "810 ) What can these people do with the object they're focused on?\n",
      "811 ) What thing in the image has two headlights?\n",
      "638 ) Which vehicle in this image has two headlights\n",
      "812 ) What equipment in the image has a physical impact buffer?\n",
      "813 ) What types of music does this instrument used to play?\n",
      "814 ) what object in this image is an enemy of dogs?\n",
      "815 ) Which object in this image is able to prevent head injuries\n",
      "816 ) What thing in this photo can protect a head from impact\n",
      "2965 ) Which object in this image is capable of preventing head injury?\n",
      "3393 ) Which object in this image is capable of preventing head injury?\n",
      "817 ) Which object in this image can be used to protect your head\n",
      "4859 ) ￼Which object in this image is used for protecting one's head?\n",
      "3042 ) Which object in this image is used to protect your head?\n",
      "3499 ) What object in this image is used to protect your head?\n",
      "3156 ) Which object in this image is used to protect the head?\n",
      "249 ) Which object is used to protect your head in this image\n",
      "1700 ) Which object in this image is used for moving across water?\n",
      "1701 ) Which object in this image is a bouyant?\n",
      "5265 ) Which object in this image is a kind of cuisine?\n",
      "5264 ) Which fruit in this image is most similar to mandarin?\n",
      "463 ) Which fruit is related to oranges?\n",
      "1704 ) What is the round and orange object in the image?\n",
      "960 ) Can you describe the ball in the image?\n",
      "1705 ) Which object in this image is a piece of sport equipment?\n",
      "1706 ) What is the place in this image used for?\n",
      "1707 ) Which object in this image is a sport you play?\n",
      "1708 ) which object in this image is capable of using a pen to write words?\n",
      "1709 ) which object in this image can eat breakfast?\n",
      "2097 ) What object in this image can be found in a garden?\n",
      "5268 ) which object in this image is faster than traffic?\n",
      "2096 ) What herd animal is in this image?\n",
      "4315 ) Which animal in this image is a herd animal?\n",
      "965 ) what object in this image is a subclass of herd animal?\n",
      "407 ) What herd animal is shown here?\n",
      "4574 ) Which object in this image is capable of mining data?\n",
      "4575 ) Which object in this image is a part of monitor cpu box keyboard and mouse?\n",
      "4577 ) What fruit in this image is used for health?\n",
      "3959 ) Which object in this image belongs to vehicle?\n",
      "5817 ) Which object in this image is a vehicle?\n",
      "4562 ) Which object in this image is a vehicle?\n",
      "5306 ) Which object in this image is a vehicle?\n",
      "3029 ) which object in this image do we need to pay more for than bus \n",
      "3028 ) which object in this image is faster than shuttle bus?\n",
      "3027 ) which object in this image is faster than shuttle bus?\n",
      "3026 ) Which object in this image uses tracks?\n",
      "3024 ) What is the hot food or drink item in this image?\n",
      "1563 ) Which object in this image is a hot food or drink?\n",
      "3023 ) Which object in this image is a kind of Pets?\n",
      "4844 ) What pet is in this image?\n",
      "3022 ) Which object in this image is important to fire fighters?\n",
      "5749 ) Which object in this image is important to fire fighters?\n",
      "5558 ) Which object in this image is important to fire fighters?\n",
      "3021 ) Which object in this image is related to fire engine?\n",
      "5751 ) Which object in this image is related to fire engine?\n",
      "3020 ) Which object in this image is capable of grazing?\n",
      "4198 ) Which animal in this image can build nest?\n",
      "4199 ) Which animal in this image can build nest?\n",
      "4196 ) Which animal in this image can build nest?\n",
      "4197 ) Which animal in this image can build nest?\n",
      "4194 ) Which animal in this image can build nest?\n",
      "4195 ) Which animal in this image can build nest?\n",
      "4192 ) Which animal in this image can build nest?\n",
      "4193 ) Which animal in this image can build nest?\n",
      "4190 ) Which animal in this image can build nest?\n",
      "4191 ) Which animal in this image can build nest?\n",
      "4189 ) Which animal in this image can build nest?\n",
      "4188 ) Which animal in this image can build nest?\n",
      "4181 ) Which animal in this image can build nest?\n",
      "4180 ) Which animal in this image can build nest?\n",
      "4183 ) Which animal in this image can build nest?\n",
      "4182 ) Which animal in this image can build nest?\n",
      "4185 ) Which animal in this image can build nest?\n",
      "4184 ) Which animal in this image can build nest?\n",
      "4187 ) Which animal in this image can build nest?\n",
      "4186 ) Which animal in this image can build nest?\n",
      "4200 ) Which animal in this image can build nest?\n",
      "4201 ) Which animal in this image can build nest?\n",
      "4179 ) Which animal in this image can build nest?\n",
      "5670 ) Which object in this image is generally smaller than lake?\n",
      "5671 ) What can be found in this place?\n",
      "5465 ) What can be found in this place?\n",
      "5672 ) Who are humans in this image?\n",
      "1327 ) Which object in this image belongs to the category Human?\n",
      "1870 ) What in this image belongs to the category Human?\n",
      "2138 ) Those who play with the objects in the image belong to what species?\n",
      "1693 ) which object in this picture comes from the category of human\n",
      "5673 ) Which object in this image has a string\n",
      "3337 ) Which object in this image has strings?\n",
      "3335 ) Which object in this image has strings?\n",
      "5675 ) What is the place in this image used for?\n",
      "5677 ) what's in the middle of this image?\n",
      "5678 ) Which object in this image is used to display image?\n",
      "1132 ) Which object in this image can display images?\n",
      "3588 ) Which object in this image is capable of displaying images?\n",
      "5216 ) What device can display images?\n",
      "3404 ) Which digital object in this image is capable of display image?\n",
      "4117 ) Which object in this image is capable of displaying images?\n",
      "5679 ) what's shown in the top of the image\n",
      "2614 ) What can you expect to find in a place like this?\n",
      "1149 ) What can be found in this room?\n",
      "238 ) What object in this image used for the toilet?\n",
      "239 ) Which thing in the image has a seat?\n",
      "234 ) Which fruit in the image is round?\n",
      "235 ) What is the place?\n",
      "2732 ) Where can the object in the centre of this image be found?\n",
      "903 ) What is the place in this image?\n",
      "236 ) Which tool can you see is used to turn screws\n",
      "831 ) Which tool demonstrated can be used by a man to turn screws\n",
      "237 ) Which tool will you choose to pull out screws?\n",
      "832 ) If I want to pull out screws, which tool can I use?\n",
      "231 ) Which fruit in this image is juicy\n",
      "4711 ) Which object in this image has the property of juicy?\n",
      "232 ) Which food is the most related to lemon\n",
      "233 ) Which one in the image belongs to the Tropical fruit?\n",
      "2538 ) Which object in this image can be found in the child's hand?\n",
      "2539 ) What can you find in the sand by the ocean?\n",
      "2532 ) What animal in the image can rest standing up?\n",
      "2533 ) Which object in this image is related to grasscutting?\n",
      "2530 ) Which object in this image is a wheel box use to transport things?\n",
      "2531 ) Which object in this image could pull a buggy to a picnic?\n",
      "2536 ) Which object in this image is related to rain?\n",
      "2537 ) which object in this image can we find to be related to surf\n",
      "2800 ) Which object in this image is related to surf?\n",
      "3725 ) Which object in this image used to surf?\n",
      "2534 ) Which object in this image has trucks?\n",
      "2535 ) What is the place in this image used for?\n",
      "5078 ) which object in this image can die of prostate cancer?\n",
      "5079 ) which object in this image is capable of using weights when doing aerobics?\n",
      "5072 ) What mollusc is in this image?\n",
      "2314 ) What object in this image is a type of mollusc?\n",
      "5073 ) Which object in this image has no legs?\n",
      "667 ) Does the animal in the image has legs?\n",
      "5070 ) Which object in this image is a animal?\n",
      "5071 ) what does the object in the right has as a part\n",
      "2317 ) What does the object in the right of this image have as a part?\n",
      "10 ) What is special of the animal in the image?\n",
      "5060 ) Which object in this image has a shell?\n",
      "4091 ) Which animal in this image has a shell?\n",
      "5076 ) which object in this image is capable of borrowing a book?\n",
      "5077 ) which object in this image is capable of reading a book?\n",
      "2265 ) which object in this picture can read\n",
      "5074 ) What object in this image is found in a shell?\n",
      "5075 ) Which object in this image can be played by an accordionist?\n",
      "939 ) What do we call the fast food in the image?\n",
      "5467 ) Which object in this image belongs to the category Fast food?\n",
      "938 ) What object in this image is used for playing music?\n",
      "5011 ) Which object in this image is used for playing music?\n",
      "2069 ) Which object in this image is used for play music?\n",
      "933 ) What thing in the image can be driven?\n",
      "932 ) What the sign in the image for?\n",
      "3402 ) Which other object than the traffic light is used to control the traffic? \n",
      "509 ) Which object in this image is used to control traffic\n",
      "931 ) What water vehicle is depicted here?\n",
      "208 ) what object in this image will you find on the water?\n",
      "930 ) Which activity shown here is related to surfing?\n",
      "937 ) What can you feel in this weather?\n",
      "936 ) Which thing in the image stops the car?\n",
      "749 ) which object in this image can stop cars\n",
      "1982 ) Which object in this image can stop cars?\n",
      "4759 ) Which object in this image can stop a car?\n",
      "825 ) What does the light means here?\n",
      "17 ) Which object in this image is able to stop cars\n",
      "1839 ) Which object in this image can stop cars?\n",
      "935 ) Can you find this snake in a city or desert?\n",
      "934 ) What is the device in the image used for>\n",
      "5380 ) Which object in this image is related to goat?\n",
      "5381 ) Which animal in this image is related to lambskin?\n",
      "5382 ) Which object in this image is related to  cream?\n",
      "5383 ) what is it in this image is related to shedhand?\n",
      "5384 ) Which object in this image has the property of use to contain liquid?\n",
      "5386 ) Which object in this image contains liquid?\n",
      "5385 ) Which object in this image can print books?\n",
      "5387 ) Which object in this image is related to mouse?\n",
      "5388 ) Which object in this image can be used to write email?\n",
      "4682 ) What in this image could be used for writing email?\n",
      "5389 ) which object in this image is normally more expensive than desktop computer?\n",
      "797 ) Which thing is made from fermented grape juice?\n",
      "796 ) normally where can you find this game?\n",
      "3367 ) What object in this image is used at a park?\n",
      "795 ) Which object in this image is grown in hawaii\n",
      "794 ) Which object is a sign of welcome in hawaii\n",
      "793 ) Which object in this image belongs to the category of tropical flora\n",
      "792 ) Which object in this image is related to hawaiian symbol\n",
      "265 ) Which thing in the image is the hawaiian symbol?\n",
      "791 ) Which food in this image can only grow in tropical or sub-tropical regions\n",
      "2192 ) What object in this image grows in tropical or sub tropical regions?\n",
      "790 ) Which fruit in this image is spiky \n",
      "799 ) What thing in the image can fly?\n",
      "4708 ) Which object in this image can fly?\n",
      "116 ) Which object in this image can fly?\n",
      "798 ) What is the difference between the instrument and the violin?\n",
      "947 ) What is the difference between the instrument and the violin?\n",
      "2144 ) Which object in this image belongs to the category Fruit?\n",
      "2143 ) Which object in this image belongs to the category Fruit?\n",
      "5650 ) Which object in this image belongs to the category Fruit?\n",
      "1462 ) Which sort of food is in this image?\n",
      "2223 ) Which sort of fruit can you see in this image?\n",
      "2221 ) What fruit is shown in this image?\n",
      "2142 ) Which object in this image contains wiener?\n",
      "1139 ) Which small people in this image belong to the category Humans?\n",
      "5532 ) Which object in this image belongs to the category Humans?\n",
      "1958 ) How do you define the two humans in this image?\n",
      "1138 ) What can likely be found in the image?\n",
      "2141 ) what's in the middle of this image?\n",
      "1133 ) Which object in this image is a kind of office table?\n",
      "1131 ) which object in this image often is played outside\n",
      "2805 ) What sport are the children playing?\n",
      "1892 ) Which object in this image should be played outside?\n",
      "1893 ) Which object in this image should be played outside?\n",
      "1137 ) Which round object on the right in this image belongs to the category Furniture?\n",
      "1210 ) Which object in this image can be classified into Fuiniture?\n",
      "1669 ) Which round object in the center of this image belongs to the category Furniture?\n",
      "1136 ) Where can the place in this image be found at?\n",
      "1135 ) Which object in this image is a dental tool?\n",
      "1134 ) Which object in this image has pedals?\n",
      "2419 ) Which object in this image is a live thing?\n",
      "4975 ) which object in this image is related to baggage?\n",
      "4974 ) which object in this image is related to baggage?\n",
      "2149 ) What is the place in this image used for?\n",
      "2148 ) What is the place in this image used for?\n",
      "2882 ) Which object in this image is an amphibian animal?\n",
      "2883 ) Which object in this image can be found in a pond?\n",
      "2880 ) Which object in this image is capable of jumping?\n",
      "2881 ) Which object in this image usually lives near water?\n",
      "2886 ) Which object in this image is an animal?\n",
      "2887 ) What is the object in the lower right of this image used for?\n",
      "2888 ) What object in this image is used for travelling?\n",
      "2884 ) Which object in this image is related to tadpoles?\n",
      "2885 ) Which object in this image is related to croak?\n",
      "2889 ) What object in this image is capable of flying?\n",
      "339 ) Which object in this image can fly?\n",
      "338 ) Tell me the thing in this image that can fly\n",
      "2775 ) Which objects can fly in this image?\n",
      "2 ) What job is the dog doing here?\n",
      "464 ) What is the dog in the image capable of?\n",
      "3276 ) Which object in this image is a red octagon?\n",
      "1331 ) Which object in this image is a red octagon?\n",
      "1032 ) Which object in this image is a red octagon?\n",
      "2615 ) Which object in this image is a red octagon?\n",
      "1921 ) Which object in this image contains written knowledge?\n",
      "1922 ) Which object in this image usually contains text?\n",
      "1923 ) Which object in this image has software?\n",
      "1924 ) Which object in this image can be used to send email?\n",
      "563 ) Which object in this image can be used to send email\n",
      "1925 ) Which object in this image has a drawer?\n",
      "2278 ) Which object in this image has drawers?\n",
      "1926 ) Which object in this image might be used to touch type?\n",
      "1927 ) Which object in this image can be used to point and click?\n",
      "4761 ) Which fast animal can you see in this image?\n",
      "5124 ) Which fast animal is shown in this image ?\n",
      "4760 ) What object can be used to type letter?\n",
      "4839 ) Which object in this image is used for type letter?\n",
      "4763 ) What is less common than the thing on the left side of this image?\n",
      "4762 ) Which object in this image has a wheel?\n",
      "3355 ) Which object in this image has wheels?\n",
      "5191 ) Which sport object in this image has wheels?\n",
      "4765 ) Which object in this image has a spikey top\n",
      "4376 ) What fruit in this image has spikey top?\n",
      "4764 ) Which object in this image is spherical?\n",
      "1309 ) Which object in this image is spherical?\n",
      "5031 ) Which object in this image is spherical?\n",
      "4767 ) which object in this image can you find in a food truck\n",
      "4766 ) Which object in this image is used for carrying things?\n",
      "4769 ) What object is related to bagage in this image?\n",
      "4768 ) Which object in this image usually  costs less than flight?\n",
      "4431 ) what thing is expensive than the object shown in the middle of this image?\n",
      "4770 ) which object in this image is cheaper than plane?\n",
      "5809 ) What can be found in this office?\n",
      "2274 ) What can be found at an office computer?\n",
      "5808 ) Which object in this image is a modify table for work?\n",
      "5803 ) What object in this image is an edible fruit?\n",
      "688 ) Which edible fruit is seen here?\n",
      "1336 ) Which object in this image is an edible fruit?\n",
      "5802 ) What item of kitchenware is in this image?\n",
      "5801 ) Which object in this image belongs to the category Toy?\n",
      "3859 ) Which object in this image belongs to the category Toy?\n",
      "5800 ) Which object in this image is related to boomerang?\n",
      "5807 ) Which object in this image is related to style?\n",
      "5806 ) Which object in this image is related to lawsuit?\n",
      "5805 ) Which object in this image has a emotional state\n",
      "5804 ) What is the flat disc in this image called?\n",
      "5580 ) Which object in this image is a flat disc?\n",
      "1573 ) Who in this image can enjoy food?\n",
      "1572 ) ￼Which object in this image is a mammal?\n",
      "1571 ) Which object in this image is alive?\n",
      "1570 ) Which object in this image has seatbelts in it?\n",
      "4364 ) Which object in this image has a seatbelt in it?\n",
      "1577 ) Which object in this image can be used for melody?\n",
      "1576 ) What can be found in this office?\n",
      "1575 ) What can be found in this table?\n",
      "4888 ) Which fruit on the left in this image is yellow?\n",
      "2070 ) Which object in this image is a yellow fruit?\n",
      "2397 ) What yellow fruit is in this image?\n",
      "420 ) What is the yellow fruit on the top?\n",
      "1498 ) Which object in this image is a yellow fruit?\n",
      "4889 ) Which object in this image often carries a suitcase when travelling?\n",
      "2709 ) What types of Ball games is played in this image?\n",
      "3340 ) What ball game are people playing?\n",
      "2708 ) What kind of action in Summer Olympic sports is depicted in this image\n",
      "5099 ) Which Summer Olympic sports is shown in this image?\n",
      "4880 ) Which object on the right of this image is can sit a person?\n",
      "4881 ) Which object on the right of this image is can sit a person?\n",
      "4882 ) Which object on the right of this image is can sit a person?\n",
      "2706 ) Which object in this image belongs to the category Competitive games?\n",
      "2707 ) What is the sport that belongs to competitive games?\n",
      "3345 ) What activity in the image is often considered a competitive game?\n",
      "4884 ) Which object in this image is capable of keeping doctor away?\n",
      "297 ) What object in this image is used for keeping the doctor away?\n",
      "2700 ) which object in this image is capable of purchasing an item with cash?\n",
      "2703 ) Which object in this image belongs to the category Electric vehicles?\n",
      "4887 ) Which object in this image is used for eat?\n",
      "2072 ) which object in this image can be eaten?\n",
      "2076 ) which object in this image can be eaten?\n",
      "3870 ) Which object in this image is used as food?\n",
      "406 ) what object in this image is used for eating?\n",
      "2345 ) Which object in this image is used for eat?\n",
      "2411 ) Which object in this image belongs to the category Animal-powered vehicles?\n",
      "3059 ) Which object in this image is a kind of Animal-powered vehicles?\n",
      "475 ) What is the green vegetable on the plate?\n",
      "1434 ) Which object in this image is green?\n",
      "2065 ) Which object in this image is green?\n",
      "2969 ) Which object in this image is green?\n",
      "5361 ) Which object in this image is green?\n",
      "1980 ) Which object in this image is green?\n",
      "1395 ) What is the green vegetable shown in this image?\n",
      "3474 ) Which object in this image might be related to a litter tray?\n",
      "3475 ) Which object here is a curious animal?\n",
      "1348 ) What is the curious animal?\n",
      "3476 ) Which object in this image belongs to the category Herbivorous animals?\n",
      "3477 ) Which animal has very high blood pressure?\n",
      "647 ) Which animal in this image has extremely high blood pressure\n",
      "857 ) Whether the animal in the image has high or low blood pressure?\n",
      "2954 ) Which object in this image has a extremely high blood pressure?\n",
      "3470 ) Which object in this image is hollow?\n",
      "1934 ) Which round object that you cannot see in this image has the property of hollow?\n",
      "3471 ) What in this image has a collar?\n",
      "3472 ) Which object in this image is related to lip?\n",
      "835 ) If you want to pound in nails, which tool you will choose from this image?\n",
      "991 ) Which tool in this image is used for pounding in nails\n",
      "838 ) Which thing is used for playing music?\n",
      "3647 ) ￼Which object in this image is used for playing music?\n",
      "839 ) What is the crustacean animal in the image?\n",
      "3478 ) Which object in this image is a mammal?\n",
      "3703 ) Which object in this image is a mammal?\n",
      "3479 ) Which object in this image is native to Africa?\n",
      "4943 ) Which object in this image is native to africa?\n",
      "164 ) What object in this image is native to Africa?\n",
      "5546 ) Which object in this image is native to africa?\n",
      "5249 ) which object in this image is a type of feline?\n",
      "5248 ) which object in this image has sharp claws?\n",
      "1728 ) which device in this image is less efficient than desktop?\n",
      "1729 ) Which object in this image can be ridden?\n",
      "1325 ) Which object in this image can you ride on?\n",
      "1998 ) What object in the image is used for riding?\n",
      "1726 ) Which object in this image is created by tying a certain knot?\n",
      "5244 ) which object in this image is used to keep rain or sun off a person?\n",
      "1724 ) which animal in this image is bigger than ant?\n",
      "1725 ) Which object in this image is a hair style product?\n",
      "2380 ) Which object in this image is a hair style product?\n",
      "1722 ) What is likely to be found in this place?\n",
      "1723 ) Which object in this image is for exercise?\n",
      "4171 ) Which object does the girl use for exercise?\n",
      "4172 ) Which object does the girl use for exercise?\n",
      "4173 ) Which object does the girl use for exercise?\n",
      "1721 ) What activity in the image is a popular sport?\n",
      "2150 ) Which popular sport can you see in this image?\n",
      "2415 ) Which object in this image is a use when it rain?\n",
      "3734 ) Which object in this image is used when it rains?\n",
      "3005 ) Which animal in this image is capable of staying inside house?\n",
      "3004 ) Which object in this image is a kind of seat?\n",
      "3007 ) Which object in this image usually appears in symphony?\n",
      "3006 ) which object in this image can be used for serving or dining\n",
      "1293 ) What's one thing in this image belonging to the category of Serving and dining?\n",
      "3001 ) What in this image can be used to creat art?\n",
      "3000 ) Which object is oval shaped?\n",
      "4727 ) Which object has oval shape\n",
      "1054 ) Which object in this image is oval shaped?\n",
      "3589 ) Which object in this image is oval shaped?\n",
      "3003 ) Which object in this image eats fish?\n",
      "3310 ) Which action is less strenuous than the action shown in this image\n",
      "1523 ) Which action is less strenuous than the action shown in this image?\n",
      "3309 ) Which action is less strenuous than the action shown in this image\n",
      "3009 ) Which object in this image belongs to the category Computer hardware?\n",
      "3313 ) What object can be used for anxiety disorder treatment\n",
      "2414 ) What can the place in the image be used for?\n",
      "3312 ) Which object in this image might be found at the beach?\n",
      "3049 ) what object in this image can be found at a beach?\n",
      "1582 ) Which object in this image is a type of furniture for sitting?\n",
      "473 ) Which place in the image are used for sitting?\n",
      "3315 ) What instrument in this image is often used in classic music?\n",
      "4046 ) What in this image is often used in classic music?\n",
      "1580 ) Which object in this image is a kind of Home appliances?\n",
      "1581 ) Which object in the image  is an electronic toy?\n",
      "1586 ) What is the weather in the image?\n",
      "1584 ) what can we find on the desk\n",
      "1490 ) Which object in this image is used for travelling?\n",
      "1585 ) Which bag is more comfortable than a shoulder bag?\n",
      "5481 ) Which object in this image can be found in any ocean?\n",
      "5480 ) What in the image is an example of a large gray mammal?\n",
      "4102 ) What is the large gray mammal shown in this image ?\n",
      "5859 ) What large grey animal is in this image?\n",
      "5658 ) Which object in this image is faster than men?\n",
      "5659 ) which object in this image can you use to go horseriding?\n",
      "5656 ) What object has seats in them?\n",
      "5657 ) What absorbs less solar heat than the place shown in the image\n",
      "5654 ) What mode of transport seen in this image is more common than rail?\n",
      "3955 ) which object in this image is more common than rail?\n",
      "5655 ) What is the object in this image that is related to vehicles?\n",
      "5652 ) Which object in this image has a keyboard like a piano?\n",
      "2450 ) Which object in this image has a keyboard like a piano?\n",
      "5653 ) Which object in this image is used for polka music?\n",
      "5651 ) What is the object in the centre of this image used for?\n",
      "4483 ) Which object in this image is used for creating music?\n",
      "3917 ) Which object in this image is related to flutterby?\n",
      "3916 ) What animal in the image is typically smaller than a bird?\n",
      "3915 ) Which object in this image is insect?\n",
      "3914 ) Which object in this image is able to fly?\n",
      "3 ) Which object in this image can fly?\n",
      "3913 ) what in this image belongs to the category Therapsida?\n",
      "3912 ) what in this image belongs to the category Therapsida?\n",
      "3911 ) which animal in this image is slower than dinosaur?\n",
      "3910 ) Which object in this image is related to mammoths?\n",
      "3919 ) Which object in this image is a woodwind instrument?\n",
      "3918 ) Which object in this image is related to purple emperor?\n",
      "3287 ) What object in this image might have a spare tire?\n",
      "216 ) What object in this image is capable of browsing the internet?\n",
      "217 ) What is the vehicle in the image powered by?\n",
      "214 ) Which thing in this image has a crust?\n",
      "3600 ) Which object in this image has a crust?\n",
      "3838 ) Which object in this image has a crust\n",
      "5324 ) Which dish in this image has a crust?\n",
      "215 ) What category do bananas belong to\n",
      "2105 ) What fruit is in the image?\n",
      "212 ) What is the name of the sports equipment in this image?\n",
      "213 ) What rain protection tool is used in the image?\n",
      "5240 ) Which object in this image is a kind of rain protection?\n",
      "210 ) What object in this image can transport multiple people at once?\n",
      "5725 ) Which object in this image is capable of transporting many people at once?\n",
      "211 ) Which instrument is black?\n",
      "219 ) Which thing in this image you can used to make popcorn?\n",
      "45 ) Which thing in this image you can used to make popcorn?\n",
      "3285 ) Which object in this image has a frame?\n",
      "3649 ) which object in this image is a small red fruit?\n",
      "224 ) Which small red fruit is show in this image?\n",
      "3074 ) What is the small red fruit in the image?\n",
      "4891 ) Which object in this image is a kind of small red fruit?\n",
      "1601 ) Which object in this image is a small red fruit?\n"
     ]
    }
   ],
   "source": [
    "top_100_similar_facts = []\n",
    "# loopcount = 1\n",
    "for index, row in merged_ques_facts_df.iterrows():\n",
    "    print(index, ')', row['question'])\n",
    "    # if loopcount == 2:\n",
    "    #     break\n",
    "    # loopcount+=1\n",
    "    topK_similar_fact_ids, topK_similar_fact_scores = fact_similarity(row)\n",
    "    topK_similar_fact_dict = dict(zip(topK_similar_fact_ids, topK_similar_fact_scores))\n",
    "    top_100_similar_facts.append(topK_similar_fact_dict)"
   ],
   "metadata": {
    "collapsed": false,
    "pycharm": {
     "name": "#%%\n",
     "is_executing": true
    }
   }
  },
  {
   "cell_type": "code",
   "execution_count": 52,
   "outputs": [
    {
     "ename": "SyntaxError",
     "evalue": "can't use starred expression here (<ipython-input-52-898660ccff5f>, line 4)",
     "output_type": "error",
     "traceback": [
      "\u001B[1;36m  File \u001B[1;32m\"<ipython-input-52-898660ccff5f>\"\u001B[1;36m, line \u001B[1;32m4\u001B[0m\n\u001B[1;31mSyntaxError\u001B[0m\u001B[1;31m:\u001B[0m can't use starred expression here\n"
     ]
    }
   ],
   "source": [
    "list(topK_similar_fact_dict.keys())"
   ],
   "metadata": {
    "collapsed": false,
    "pycharm": {
     "name": "#%%\n"
    }
   }
  },
  {
   "cell_type": "code",
   "execution_count": 53,
   "outputs": [
    {
     "data": {
      "text/plain": "                                                                                             e1_label  \\\nconceptnet/e/b0f9c6642c3b72edcf48f8a096cc06610b...                                               hand   \nconceptnet/e/f6f82efb9cb144239bb12d10cfce965514...                                             person   \nconceptnet/e/1ca1e156c530715b93d79422c16a1d90c7...                                             person   \nconceptnet/e/bdb278197e7b379d787a9fb0fd24688a73...  difference between bicycle and audience one be...   \nconceptnet/e/84f3b7c2c20fb039b4088c762517ac79a4...                                               book   \n...                                                                                               ...   \nconceptnet/e/77deaddd59f9610dee1cb54e3b75c2d501...                                             person   \nconceptnet/e/7e40c16e62f53d14fbd4442d7079225a68...                                                cat   \nconceptnet/e/17d71f5516324ef132fd52d1ad6dfe6660...                                             person   \nconceptnet/e/8734ca7ada6c8ba4c3b9f25a7936570ccb...                                             person   \nconceptnet/e/d6a4fe641a84cc10c791ad0959edfde3d7...                                             person   \n\n                                                                                             e2_label  \\\nconceptnet/e/b0f9c6642c3b72edcf48f8a096cc06610b...  part of body with five extension which can be ...   \nconceptnet/e/f6f82efb9cb144239bb12d10cfce965514...                             know which way be home   \nconceptnet/e/1ca1e156c530715b93d79422c16a1d90c7...                               be put in centrfuige   \nconceptnet/e/bdb278197e7b379d787a9fb0fd24688a73...                                              metal   \nconceptnet/e/84f3b7c2c20fb039b4088c762517ac79a4...  collection of symbol on sheet of paper that ha...   \n...                                                                                               ...   \nconceptnet/e/77deaddd59f9610dee1cb54e3b75c2d501...                                    be of good will   \nconceptnet/e/7e40c16e62f53d14fbd4442d7079225a68...                play with thing that they shouldn't   \nconceptnet/e/17d71f5516324ef132fd52d1ad6dfe6660...                               his child to be well   \nconceptnet/e/8734ca7ada6c8ba4c3b9f25a7936570ccb...                               be leave out in cold   \nconceptnet/e/d6a4fe641a84cc10c791ad0959edfde3d7...                             be in no win situation   \n\n                                                                r  \\\nconceptnet/e/b0f9c6642c3b72edcf48f8a096cc06610b...         /r/IsA   \nconceptnet/e/f6f82efb9cb144239bb12d10cfce965514...     /r/Desires   \nconceptnet/e/1ca1e156c530715b93d79422c16a1d90c7...  /r/NotDesires   \nconceptnet/e/bdb278197e7b379d787a9fb0fd24688a73...      /r/MadeOf   \nconceptnet/e/84f3b7c2c20fb039b4088c762517ac79a4...         /r/IsA   \n...                                                           ...   \nconceptnet/e/77deaddd59f9610dee1cb54e3b75c2d501...     /r/Desires   \nconceptnet/e/7e40c16e62f53d14fbd4442d7079225a68...     /r/Desires   \nconceptnet/e/17d71f5516324ef132fd52d1ad6dfe6660...     /r/Desires   \nconceptnet/e/8734ca7ada6c8ba4c3b9f25a7936570ccb...  /r/NotDesires   \nconceptnet/e/d6a4fe641a84cc10c791ad0959edfde3d7...  /r/NotDesires   \n\n                                                    similarty_scores  \nconceptnet/e/b0f9c6642c3b72edcf48f8a096cc06610b...          0.885676  \nconceptnet/e/f6f82efb9cb144239bb12d10cfce965514...          0.867537  \nconceptnet/e/1ca1e156c530715b93d79422c16a1d90c7...          0.863351  \nconceptnet/e/bdb278197e7b379d787a9fb0fd24688a73...          0.862770  \nconceptnet/e/84f3b7c2c20fb039b4088c762517ac79a4...          0.862736  \n...                                                              ...  \nconceptnet/e/77deaddd59f9610dee1cb54e3b75c2d501...          0.827736  \nconceptnet/e/7e40c16e62f53d14fbd4442d7079225a68...          0.827655  \nconceptnet/e/17d71f5516324ef132fd52d1ad6dfe6660...          0.827601  \nconceptnet/e/8734ca7ada6c8ba4c3b9f25a7936570ccb...          0.827435  \nconceptnet/e/d6a4fe641a84cc10c791ad0959edfde3d7...          0.827047  \n\n[100 rows x 4 columns]",
      "text/html": "<div>\n<style scoped>\n    .dataframe tbody tr th:only-of-type {\n        vertical-align: middle;\n    }\n\n    .dataframe tbody tr th {\n        vertical-align: top;\n    }\n\n    .dataframe thead th {\n        text-align: right;\n    }\n</style>\n<table border=\"1\" class=\"dataframe\">\n  <thead>\n    <tr style=\"text-align: right;\">\n      <th></th>\n      <th>e1_label</th>\n      <th>e2_label</th>\n      <th>r</th>\n      <th>similarty_scores</th>\n    </tr>\n  </thead>\n  <tbody>\n    <tr>\n      <th>conceptnet/e/b0f9c6642c3b72edcf48f8a096cc06610b4851e4</th>\n      <td>hand</td>\n      <td>part of body with five extension which can be ...</td>\n      <td>/r/IsA</td>\n      <td>0.885676</td>\n    </tr>\n    <tr>\n      <th>conceptnet/e/f6f82efb9cb144239bb12d10cfce96551497a1f1</th>\n      <td>person</td>\n      <td>know which way be home</td>\n      <td>/r/Desires</td>\n      <td>0.867537</td>\n    </tr>\n    <tr>\n      <th>conceptnet/e/1ca1e156c530715b93d79422c16a1d90c7d13466</th>\n      <td>person</td>\n      <td>be put in centrfuige</td>\n      <td>/r/NotDesires</td>\n      <td>0.863351</td>\n    </tr>\n    <tr>\n      <th>conceptnet/e/bdb278197e7b379d787a9fb0fd24688a73a44da9</th>\n      <td>difference between bicycle and audience one be...</td>\n      <td>metal</td>\n      <td>/r/MadeOf</td>\n      <td>0.862770</td>\n    </tr>\n    <tr>\n      <th>conceptnet/e/84f3b7c2c20fb039b4088c762517ac79a4ca376d</th>\n      <td>book</td>\n      <td>collection of symbol on sheet of paper that ha...</td>\n      <td>/r/IsA</td>\n      <td>0.862736</td>\n    </tr>\n    <tr>\n      <th>...</th>\n      <td>...</td>\n      <td>...</td>\n      <td>...</td>\n      <td>...</td>\n    </tr>\n    <tr>\n      <th>conceptnet/e/77deaddd59f9610dee1cb54e3b75c2d5017594b7</th>\n      <td>person</td>\n      <td>be of good will</td>\n      <td>/r/Desires</td>\n      <td>0.827736</td>\n    </tr>\n    <tr>\n      <th>conceptnet/e/7e40c16e62f53d14fbd4442d7079225a684674b4</th>\n      <td>cat</td>\n      <td>play with thing that they shouldn't</td>\n      <td>/r/Desires</td>\n      <td>0.827655</td>\n    </tr>\n    <tr>\n      <th>conceptnet/e/17d71f5516324ef132fd52d1ad6dfe6660c9f023</th>\n      <td>person</td>\n      <td>his child to be well</td>\n      <td>/r/Desires</td>\n      <td>0.827601</td>\n    </tr>\n    <tr>\n      <th>conceptnet/e/8734ca7ada6c8ba4c3b9f25a7936570ccb36d329</th>\n      <td>person</td>\n      <td>be leave out in cold</td>\n      <td>/r/NotDesires</td>\n      <td>0.827435</td>\n    </tr>\n    <tr>\n      <th>conceptnet/e/d6a4fe641a84cc10c791ad0959edfde3d7320150</th>\n      <td>person</td>\n      <td>be in no win situation</td>\n      <td>/r/NotDesires</td>\n      <td>0.827047</td>\n    </tr>\n  </tbody>\n</table>\n<p>100 rows × 4 columns</p>\n</div>"
     },
     "execution_count": 53,
     "metadata": {},
     "output_type": "execute_result"
    }
   ],
   "source": [
    "# top K similar facts\n",
    "col_filter = ['e1_label', 'e2_label', 'r', 'similarty_scores']\n",
    "all_facts_data_df.loc[list(topK_similar_fact_dict.keys()), col_filter]"
   ],
   "metadata": {
    "collapsed": false,
    "pycharm": {
     "name": "#%%\n"
    }
   }
  },
  {
   "cell_type": "code",
   "execution_count": null,
   "outputs": [],
   "source": [
    "def node_embedding(node):\n",
    "    node = ''.join([label for label in node if label not in punctuation])\n",
    "    node_words = node.split()\n",
    "    node_words_emb = []\n",
    "    if len(node_words) == 0:\n",
    "        return np.zeros(300, dtype=np.float32)\n",
    "    for w in node_words:\n",
    "        try:\n",
    "            node_words_emb.append(embeddings_dict[w.lower()])\n",
    "        except KeyError:\n",
    "            return np.zeros(300, dtype=np.float32)\n",
    "    node_words_emb = np.array(node_words_emb)\n",
    "    node_words_emb = np.average(node_words_emb, axis=0)\n",
    "    return node_words_emb"
   ],
   "metadata": {
    "collapsed": false,
    "pycharm": {
     "name": "#%%\n",
     "is_executing": true
    }
   }
  },
  {
   "cell_type": "markdown",
   "source": [
    "### Semantic Graph Creation"
   ],
   "metadata": {
    "collapsed": false,
    "pycharm": {
     "name": "#%% md\n"
    }
   }
  },
  {
   "cell_type": "code",
   "execution_count": null,
   "outputs": [],
   "source": [
    "import json\n",
    "semantic_graph_dict = dict()\n",
    "with open(\"fvqa_data//captions_scene_graph//captions_with_scenegraphs.json\", 'r') as f:\n",
    "    semantic_graph_data = json.loads(f.read())\n",
    "\n",
    "for sm_graph in semantic_graph_data:\n",
    "    semantic_graph_dict[sm_graph['img_name']] = sm_graph\n",
    "\n",
    "semantic_graph_dict['ILSVRC2012_test_00050748.JPEG']['scenegraph']"
   ],
   "metadata": {
    "collapsed": false,
    "pycharm": {
     "name": "#%%\n",
     "is_executing": true
    }
   }
  },
  {
   "cell_type": "code",
   "execution_count": null,
   "outputs": [],
   "source": [
    "sg_all_nodes_list = []\n",
    "sg_all_relation_list = []\n",
    "sg_all_e1_label_list = []\n",
    "sg_all_e2_label_list = []\n",
    "sg_node_counts = []\n",
    "\n",
    "sg_e1_ids_dgl = []\n",
    "sg_e2_ids_dgl = []\n",
    "\n",
    "count = 1\n",
    "\n",
    "node_features = []\n",
    "edge_features = []\n",
    "for index, row in merged_ques_facts_df.iterrows():\n",
    "#     if count == 5:\n",
    "#         break\n",
    "#     count+=1\n",
    "    print(index)\n",
    "    sg_nodes_list = []\n",
    "    sg_relation_list = []\n",
    "    sg_e1_label_list = []\n",
    "    sg_e2_label_list = []\n",
    "\n",
    "    sg_labels_encoding = {}\n",
    "    sg_e1_id_dgl = []\n",
    "    sg_e2_id_dgl = []\n",
    "    sg_label = 0\n",
    "    for fact in semantic_graph_dict[row['img_file']]['scenegraph']:\n",
    "        if fact['e1_lable'] not in sg_labels_encoding:\n",
    "            sg_labels_encoding[fact['e1_lable']] = sg_label\n",
    "            sg_e1_id_dgl.append(sg_label)\n",
    "            sg_label += 1\n",
    "        else:\n",
    "            sg_e1_id_dgl.append(sg_labels_encoding[fact['e1_lable']])\n",
    "\n",
    "        if fact['e2_lable'] not in sg_labels_encoding:\n",
    "            sg_labels_encoding[fact['e2_lable']] = sg_label\n",
    "            sg_e2_id_dgl.append(sg_label)\n",
    "            sg_label += 1\n",
    "        else:\n",
    "            sg_e2_id_dgl.append(sg_labels_encoding[fact['e2_lable']])\n",
    "\n",
    "        sg_relation_list.append(fact['relation'].lower())\n",
    "\n",
    "\n",
    "\n",
    "    sg_e1_ids_dgl.append(sg_e1_id_dgl)\n",
    "    sg_e2_ids_dgl.append(sg_e2_id_dgl)\n",
    "    sg_all_relation_list.append(sg_relation_list)\n",
    "    sg_node_counts.append(len(sg_labels_encoding.keys()))\n",
    "\n",
    "\n",
    "    node_emabeddings = [node_embedding(n).tolist() for n in sg_labels_encoding.keys() ]\n",
    "    node_features.append(np.array(node_emabeddings))\n",
    "\n",
    "    relation_embeddings = [node_embedding(r).tolist() for r in sg_relation_list ]\n",
    "    edge_features.append(np.array(relation_embeddings))\n",
    "\n",
    "\n",
    "merged_ques_facts_df['sg_e1_ids'] = sg_e1_ids_dgl\n",
    "merged_ques_facts_df['sg_e2_ids'] = sg_e2_ids_dgl\n",
    "merged_ques_facts_df['sg_node_counts'] = sg_node_counts\n",
    "merged_ques_facts_df['sg_all_relation_list'] = sg_all_relation_list"
   ],
   "metadata": {
    "collapsed": false,
    "pycharm": {
     "name": "#%%\n",
     "is_executing": true
    }
   }
  },
  {
   "cell_type": "code",
   "execution_count": null,
   "outputs": [],
   "source": [
    "np.savez(\"fvqa_data//our_features//semantic_graph_train_feature.npz\", node_features = np.array(node_features),\n",
    "         edge_features = np.array(edge_features))"
   ],
   "metadata": {
    "collapsed": false,
    "pycharm": {
     "name": "#%%\n",
     "is_executing": true
    }
   }
  },
  {
   "cell_type": "markdown",
   "source": [
    "### Vocabulary word count and glove embeddings"
   ],
   "metadata": {
    "collapsed": false,
    "pycharm": {
     "name": "#%% md\n"
    }
   }
  },
  {
   "cell_type": "code",
   "execution_count": null,
   "outputs": [],
   "source": [
    "import json\n",
    "with open('fvqa_data//our_features//word_count.json', 'r') as j:\n",
    "    fvqa_count_words = json.loads(j.read())\n",
    "fvqa_vocb_embedding = []\n",
    "for key in fvqa_count_words.keys():\n",
    "    fvqa_vocb_embedding.append(node_embedding(key))\n",
    "np.save('fvqa_data//our_features//glove300dvocab.npy', np.array(fvqa_vocb_embedding))"
   ],
   "metadata": {
    "collapsed": false,
    "pycharm": {
     "name": "#%%\n",
     "is_executing": true
    }
   }
  },
  {
   "cell_type": "code",
   "execution_count": null,
   "outputs": [],
   "source": [
    "max_ques_len = 25\n",
    "def find_question_embeddings(question):\n",
    "    ques_emb = [fvqa_vocab_to_int[re.sub('[^a-zA-Z]+', '', y)] for y in question.lower().split()]\n",
    "    padding = max_ques_len - len(ques_emb)\n",
    "    ques_emb.extend(np.zeros(padding, dtype=np.int8))\n",
    "    return ques_emb\n",
    "merged_ques_facts_df['question_embedding'] = merged_ques_facts_df['question'].apply(lambda x:find_question_embeddings(x))\n",
    "merged_ques_facts_df['question_embedding'] = merged_ques_facts_df['question_embedding'].apply(lambda x: [int(e) for e in x])"
   ],
   "metadata": {
    "collapsed": false,
    "pycharm": {
     "name": "#%%\n",
     "is_executing": true
    }
   }
  },
  {
   "cell_type": "code",
   "execution_count": null,
   "outputs": [],
   "source": [],
   "metadata": {
    "collapsed": false,
    "pycharm": {
     "name": "#%%\n"
    }
   }
  }
 ],
 "metadata": {
  "kernelspec": {
   "display_name": "Python 3",
   "language": "python",
   "name": "python3"
  },
  "language_info": {
   "codemirror_mode": {
    "name": "ipython",
    "version": 2
   },
   "file_extension": ".py",
   "mimetype": "text/x-python",
   "name": "python",
   "nbconvert_exporter": "python",
   "pygments_lexer": "ipython2",
   "version": "2.7.6"
  }
 },
 "nbformat": 4,
 "nbformat_minor": 0
}